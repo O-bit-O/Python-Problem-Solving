{
  "nbformat": 4,
  "nbformat_minor": 0,
  "metadata": {
    "colab": {
      "provenance": []
    },
    "kernelspec": {
      "name": "python3",
      "display_name": "Python 3"
    },
    "language_info": {
      "name": "python"
    }
  },
  "cells": [
    {
      "cell_type": "code",
      "execution_count": 41,
      "metadata": {
        "colab": {
          "base_uri": "https://localhost:8080/",
          "height": 74
        },
        "id": "s3nEDRaq_eKi",
        "outputId": "0bac8127-33a1-4c07-954c-4dc10b944e17"
      },
      "outputs": [
        {
          "output_type": "display_data",
          "data": {
            "text/plain": [
              "27*x**2 - 14*x + 3"
            ],
            "text/latex": "$\\displaystyle 27 x^{2} - 14 x + 3$"
          },
          "metadata": {}
        },
        {
          "output_type": "display_data",
          "data": {
            "text/plain": [
              "[7/27 - 4*sqrt(2)*I/27, 7/27 + 4*sqrt(2)*I/27]"
            ]
          },
          "metadata": {}
        },
        {
          "output_type": "stream",
          "name": "stdout",
          "text": [
            "No Maxima/Minima Found\n"
          ]
        }
      ],
      "source": [
        "import sympy as sm\n",
        "from sympy import *\n",
        "import cmath\n",
        "\n",
        "x=symbols('x')\n",
        "\n",
        "y=9*x**3-7*x**2+3*x+10\n",
        "\n",
        "df=diff(y,x)\n",
        "s= solve(df)\n",
        "display(df)\n",
        "display(s)\n",
        "if (s[0].is_complex) and (s[1].is_complex):\n",
        "  print(\"No Maxima/Minima Found\")\n",
        "\n"
      ]
    },
    {
      "cell_type": "code",
      "source": [
        "import sympy as sm\n",
        "from sympy import *\n",
        "from math import *\n",
        "\n",
        "x=symbols('x')\n",
        "y=sm.log(x)\n",
        "\n",
        "df=diff(y,x)\n",
        "display(df.doit())\n",
        "display(Eq(df,0))\n",
        "s=solveset(df,x)\n",
        "if len(s)==0:\n",
        "  print(\"No Maxima/Minima Found\")\n",
        "\n"
      ],
      "metadata": {
        "colab": {
          "base_uri": "https://localhost:8080/",
          "height": 102
        },
        "id": "1SN1WkyAXs-M",
        "outputId": "d5a6a4b4-c484-44dd-ce1e-f9b1c2bbfa33"
      },
      "execution_count": 104,
      "outputs": [
        {
          "output_type": "display_data",
          "data": {
            "text/plain": [
              "1/x"
            ],
            "text/latex": "$\\displaystyle \\frac{1}{x}$"
          },
          "metadata": {}
        },
        {
          "output_type": "display_data",
          "data": {
            "text/plain": [
              "Eq(1/x, 0)"
            ],
            "text/latex": "$\\displaystyle \\frac{1}{x} = 0$"
          },
          "metadata": {}
        },
        {
          "output_type": "stream",
          "name": "stdout",
          "text": [
            "No Maxima/Minima Found\n"
          ]
        }
      ]
    },
    {
      "cell_type": "code",
      "source": [
        "import sympy as sm\n",
        "from sympy import *\n",
        "\n",
        "x=symbols('x')\n",
        "y=sm.sin(x)\n",
        "\n",
        "df=diff(y,x)\n",
        "display(df)\n",
        "s=solve(df,x)\n",
        "display(Eq(df,0))\n",
        "display(s)\n",
        "df2=diff(y,x,2)\n",
        "display(Eq(df2,0))\n",
        "p=df2.subs(x,float(s[0])).evalf()\n",
        "display(p)\n",
        "if p>0:\n",
        "  a=y.subs(x,float(s[0])).evalf()\n",
        "  print(\"Minima: \", a)\n",
        "elif p<0:\n",
        "  b=y.subs(x,float(s[0])).evalf()\n",
        "  print(\"Maxima: \", b)\n",
        "else:\n",
        "  print(\"No Maxima/Minima Found\")"
      ],
      "metadata": {
        "colab": {
          "base_uri": "https://localhost:8080/",
          "height": 138
        },
        "id": "HZnXq7I9B9Yu",
        "outputId": "22b15eac-8a12-47bb-c247-da64fc21738c"
      },
      "execution_count": 96,
      "outputs": [
        {
          "output_type": "display_data",
          "data": {
            "text/plain": [
              "cos(x)"
            ],
            "text/latex": "$\\displaystyle \\cos{\\left(x \\right)}$"
          },
          "metadata": {}
        },
        {
          "output_type": "display_data",
          "data": {
            "text/plain": [
              "Eq(cos(x), 0)"
            ],
            "text/latex": "$\\displaystyle \\cos{\\left(x \\right)} = 0$"
          },
          "metadata": {}
        },
        {
          "output_type": "display_data",
          "data": {
            "text/plain": [
              "[pi/2, 3*pi/2]"
            ]
          },
          "metadata": {}
        },
        {
          "output_type": "display_data",
          "data": {
            "text/plain": [
              "Eq(-sin(x), 0)"
            ],
            "text/latex": "$\\displaystyle - \\sin{\\left(x \\right)} = 0$"
          },
          "metadata": {}
        },
        {
          "output_type": "display_data",
          "data": {
            "text/plain": [
              "-1.00000000000000"
            ],
            "text/latex": "$\\displaystyle -1.0$"
          },
          "metadata": {}
        },
        {
          "output_type": "stream",
          "name": "stdout",
          "text": [
            "Maxima:  1.00000000000000\n"
          ]
        }
      ]
    },
    {
      "cell_type": "code",
      "source": [
        "import sympy as sm\n",
        "from sympy import *\n",
        "\n",
        "x=symbols('x')\n",
        "y=sm.cos(x)\n",
        "\n",
        "df=diff(y,x)\n",
        "display(df)\n",
        "s=solve(df,x)\n",
        "display(Eq(df,0))\n",
        "display(s)\n",
        "df2=diff(y,x,2)\n",
        "display(Eq(df2,0))\n",
        "p=df2.subs(x,float(s[0])).evalf()\n",
        "display(p)\n",
        "if p>0:\n",
        "  a=y.subs(x,float(s[0])).evalf()\n",
        "  print(\"Minima: \", a)\n",
        "elif p<0:\n",
        "  b=y.subs(x,float(s[0])).evalf()\n",
        "  print(\"Maxima: \", b)\n",
        "else:\n",
        "  print(\"No Maxima/Minima Found\")"
      ],
      "metadata": {
        "colab": {
          "base_uri": "https://localhost:8080/",
          "height": 138
        },
        "id": "jFgWWaBH66HU",
        "outputId": "c4595956-ae73-413a-da1c-045a0c7e33fa"
      },
      "execution_count": 97,
      "outputs": [
        {
          "output_type": "display_data",
          "data": {
            "text/plain": [
              "-sin(x)"
            ],
            "text/latex": "$\\displaystyle - \\sin{\\left(x \\right)}$"
          },
          "metadata": {}
        },
        {
          "output_type": "display_data",
          "data": {
            "text/plain": [
              "Eq(-sin(x), 0)"
            ],
            "text/latex": "$\\displaystyle - \\sin{\\left(x \\right)} = 0$"
          },
          "metadata": {}
        },
        {
          "output_type": "display_data",
          "data": {
            "text/plain": [
              "[0, pi]"
            ]
          },
          "metadata": {}
        },
        {
          "output_type": "display_data",
          "data": {
            "text/plain": [
              "Eq(-cos(x), 0)"
            ],
            "text/latex": "$\\displaystyle - \\cos{\\left(x \\right)} = 0$"
          },
          "metadata": {}
        },
        {
          "output_type": "display_data",
          "data": {
            "text/plain": [
              "-1.00000000000000"
            ],
            "text/latex": "$\\displaystyle -1.0$"
          },
          "metadata": {}
        },
        {
          "output_type": "stream",
          "name": "stdout",
          "text": [
            "Maxima:  1.00000000000000\n"
          ]
        }
      ]
    },
    {
      "cell_type": "code",
      "source": [
        "import sympy as sm\n",
        "from sympy import *\n",
        "\n",
        "x=symbols('x')\n",
        "y=sm.tan(x)\n",
        "\n",
        "df=diff(y,x)\n",
        "display(df)\n",
        "s=solve(df,x)\n",
        "display(Eq(df,0))\n",
        "s=solveset(df,x)\n",
        "if len(s)==0:\n",
        "  print(\"No Maxima/Minima Found\")\n"
      ],
      "metadata": {
        "colab": {
          "base_uri": "https://localhost:8080/",
          "height": 78
        },
        "id": "oV20KymH728e",
        "outputId": "3e2068f1-ea9c-49e2-fe69-ff9512ef3258"
      },
      "execution_count": 103,
      "outputs": [
        {
          "output_type": "display_data",
          "data": {
            "text/plain": [
              "tan(x)**2 + 1"
            ],
            "text/latex": "$\\displaystyle \\tan^{2}{\\left(x \\right)} + 1$"
          },
          "metadata": {}
        },
        {
          "output_type": "display_data",
          "data": {
            "text/plain": [
              "Eq(tan(x)**2 + 1, 0)"
            ],
            "text/latex": "$\\displaystyle \\tan^{2}{\\left(x \\right)} + 1 = 0$"
          },
          "metadata": {}
        },
        {
          "output_type": "stream",
          "name": "stdout",
          "text": [
            "No Maxima/Minima Found\n"
          ]
        }
      ]
    }
  ]
}