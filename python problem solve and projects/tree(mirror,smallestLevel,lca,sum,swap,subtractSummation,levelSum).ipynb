{
  "cells": [
    {
      "cell_type": "code",
      "execution_count": 1,
      "metadata": {
        "id": "D6vC520OPeTa"
      },
      "outputs": [],
      "source": [
        "class BTNode:\n",
        "  def __init__(self, elem):\n",
        "    self.elem = elem\n",
        "    self.right = None\n",
        "    self.left = None"
      ]
    },
    {
      "cell_type": "code",
      "execution_count": 2,
      "metadata": {
        "id": "UDTKlm4-PfNM"
      },
      "outputs": [],
      "source": [
        "def inorder(root):\n",
        "  if root == None:\n",
        "    return\n",
        "\n",
        "  inorder(root.left)\n",
        "  print(root.elem, end = ' ')\n",
        "  inorder(root.right)"
      ]
    },
    {
      "cell_type": "code",
      "execution_count": 3,
      "metadata": {
        "colab": {
          "base_uri": "https://localhost:8080/"
        },
        "id": "Rtc22SPzPgzM",
        "outputId": "85e48e6e-ff6c-4573-b86b-db5204844375"
      },
      "outputs": [
        {
          "output_type": "stream",
          "name": "stdout",
          "text": [
            "H D B E A I F J C G k "
          ]
        }
      ],
      "source": [
        "def tree_construction(arr, i = 1):\n",
        "  if i>=len(arr) or arr[i] == None:\n",
        "    return None\n",
        "  p = BTNode(arr[i])\n",
        "  p.left = tree_construction(arr, 2*i)\n",
        "  p.right = tree_construction(arr, 2*i+1)\n",
        "  return p\n",
        "\n",
        "\n",
        "root2 = tree_construction([None, 'A', 'B', 'C', 'D', 'E', 'F', 'G', 'H', None, None, None, 'I', 'J', None, 'k'])\n",
        "inorder(root2)"
      ]
    },
    {
      "cell_type": "markdown",
      "metadata": {
        "id": "S2nNCJNhPqGq"
      },
      "source": [
        "Task 1"
      ]
    },
    {
      "cell_type": "code",
      "execution_count": 4,
      "metadata": {
        "id": "zbBHU3FoPieb",
        "colab": {
          "base_uri": "https://localhost:8080/"
        },
        "outputId": "069fbf09-a679-40fa-e300-a08c731bfcb5"
      },
      "outputs": [
        {
          "output_type": "stream",
          "name": "stdout",
          "text": [
            "Given Tree Inorder Traversal:  40 20 60 10 30 \n",
            "Mirrored Tree Inorder Traversal:  30 10 60 20 40 "
          ]
        }
      ],
      "source": [
        "def convert_mirror(root):\n",
        "  if root is None:\n",
        "    return None\n",
        "\n",
        "  left_mirror = convert_mirror(root.left)\n",
        "  right_mirror = convert_mirror(root.right)\n",
        "\n",
        "\n",
        "  root.left = right_mirror\n",
        "  root.right = left_mirror\n",
        "\n",
        "  return root\n",
        "\n",
        "\n",
        "\n",
        "#DRIVER CODE\n",
        "root = BTNode(10)\n",
        "n1 = BTNode(20)\n",
        "n2 = BTNode(30)\n",
        "n3 = BTNode(40)\n",
        "n4 = BTNode(60)\n",
        "\n",
        "root.left = n1\n",
        "root.right = n2\n",
        "\n",
        "n1.left = n3\n",
        "n1.right = n4\n",
        "\n",
        "print('Given Tree Inorder Traversal: ', end = ' ')\n",
        "inorder(root) #Given Tree Inorder Traversal:  40 20 60 10 30\n",
        "print()\n",
        "\n",
        "root2 = convert_mirror(root)\n",
        "print('Mirrored Tree Inorder Traversal: ', end = ' ')\n",
        "inorder(root2) #Mirrored Tree Inorder Traversal:  30 10 60 20 40"
      ]
    },
    {
      "cell_type": "markdown",
      "metadata": {
        "id": "c-TBf3m0PrtK"
      },
      "source": [
        "Task 2"
      ]
    },
    {
      "cell_type": "code",
      "execution_count": 5,
      "metadata": {
        "id": "lsuxinlBPmji",
        "colab": {
          "base_uri": "https://localhost:8080/"
        },
        "outputId": "6b1c5c78-e2ff-433c-dc21-fd4b9fc99970"
      },
      "outputs": [
        {
          "output_type": "stream",
          "name": "stdout",
          "text": [
            "Given Tree Inorder Traversal:  3 9 -5 4 2 7 \n",
            "Level Wise Smallest Value:  {0: 4, 1: 2, 2: -5}\n"
          ]
        }
      ],
      "source": [
        "def smallest_level(root):\n",
        "  levels_smallest = {}\n",
        "\n",
        "  def level_traverse(node, level):\n",
        "    if node is None:\n",
        "      return\n",
        "    if level not in levels_smallest or node.elem < levels_smallest[level]:\n",
        "      levels_smallest[level] = node.elem\n",
        "    level_traverse(node.left, level + 1)\n",
        "    level_traverse(node.right, level + 1)\n",
        "\n",
        "  level_traverse(root, 0)\n",
        "\n",
        "  return levels_smallest\n",
        "\n",
        "\n",
        "#DRIVER CODE\n",
        "root = tree_construction([None, 4,9,2,3,-5,None,7])\n",
        "print('Given Tree Inorder Traversal: ', end = ' ')\n",
        "inorder(root) #Given Tree Inorder Traversal:  3 9 5 4 2 7\n",
        "print()\n",
        "print('Level Wise Smallest Value: ', end = ' ')\n",
        "print(smallest_level(root)) #Level Wise Smallest Value:  {0: 4, 1: 2, 2: -5}"
      ]
    },
    {
      "cell_type": "markdown",
      "metadata": {
        "id": "7r3lH3aWPz2d"
      },
      "source": [
        "Task 3"
      ]
    },
    {
      "cell_type": "code",
      "execution_count": 6,
      "metadata": {
        "id": "zFwP64v4Pu6d",
        "colab": {
          "base_uri": "https://localhost:8080/"
        },
        "outputId": "6260a304-3c25-4181-c7da-34599a76d4e5"
      },
      "outputs": [
        {
          "output_type": "stream",
          "name": "stdout",
          "text": [
            "Given Tree Inorder Traversal:  4 8 10 12 14 20 22 \n",
            "Inorder predecessor of node 20: 14\n"
          ]
        }
      ],
      "source": [
        "def inorder_predecessor(root, x):\n",
        "  pred = None\n",
        "  current = root\n",
        "\n",
        "  while current is not None and current.elem != x.elem:\n",
        "    if current.elem < x.elem:\n",
        "      pred = current\n",
        "      current = current.right\n",
        "    else:\n",
        "      current = current.left\n",
        "\n",
        "  if current.left is not None:\n",
        "    current = current.left\n",
        "    while current.right is not None:\n",
        "      current = current.right\n",
        "    pred = current\n",
        "\n",
        "  return pred\n",
        "\n",
        "#DRIVER CODE\n",
        "root = BTNode(20)\n",
        "n1 = BTNode(8)\n",
        "n2 = BTNode(22)\n",
        "n3 = BTNode(4)\n",
        "n4 = BTNode(12)\n",
        "n5 = BTNode(10)\n",
        "n6 = BTNode(14)\n",
        "\n",
        "root.left = n1\n",
        "root.right = n2\n",
        "\n",
        "n1.left = n3\n",
        "n1.right = n4\n",
        "\n",
        "n4.left = n5\n",
        "n4.right = n6\n",
        "\n",
        "print('Given Tree Inorder Traversal: ', end = ' ')\n",
        "inorder(root) #Given Tree Inorder Traversal:  4 8 10 12 14 20 22\n",
        "print()\n",
        "\n",
        "x = root\n",
        "print(f'Inorder predecessor of node {x.elem}: {inorder_predecessor(root, x).elem}') #Inorder predecessor of node 20: 14"
      ]
    },
    {
      "cell_type": "markdown",
      "metadata": {
        "id": "t3IGW4OaP8Vy"
      },
      "source": [
        "Task 4"
      ]
    },
    {
      "cell_type": "code",
      "execution_count": 26,
      "metadata": {
        "id": "d1A-tR7hP2fI",
        "colab": {
          "base_uri": "https://localhost:8080/"
        },
        "outputId": "15350cc6-9cac-45e8-8c47-4c40c19887ec"
      },
      "outputs": [
        {
          "output_type": "stream",
          "name": "stdout",
          "text": [
            "LCA(6,12) = 10\n",
            "LCA(20,6) = 15\n",
            "LCA(18,22) = 20\n",
            "LCA(20,25) = 25\n",
            "LCA(10,12) = 10\n"
          ]
        }
      ],
      "source": [
        "def LCA_helper(root, x, y):\n",
        "  if root is None:\n",
        "    return None\n",
        "\n",
        "  if root.elem < x and root.elem < y:\n",
        "    return LCA_helper(root.right, x, y)\n",
        "\n",
        "  if root.elem > x and root.elem > y:\n",
        "    return LCA_helper(root.left, x, y)\n",
        "\n",
        "  return root.elem\n",
        "\n",
        "\n",
        "def LCA(root, x, y):\n",
        "  if x > y:\n",
        "    x, y = y, x\n",
        "\n",
        "  return LCA_helper(root, x, y)\n",
        "\n",
        "\n",
        "#DRIVER CODE\n",
        "print(\"LCA(6,12) =\", LCA(root, 6, 12))\n",
        "print(\"LCA(20,6) =\", LCA(root, 20, 6))\n",
        "print(\"LCA(18,22) =\", LCA(root, 18, 22))\n",
        "print(\"LCA(20,25) =\", LCA(root, 20, 25))\n",
        "print(\"LCA(10,12) =\", LCA(root, 10, 12))"
      ]
    },
    {
      "cell_type": "markdown",
      "source": [
        "Task 5"
      ],
      "metadata": {
        "id": "T3Pimbw_PLHY"
      }
    },
    {
      "cell_type": "code",
      "execution_count": 29,
      "metadata": {
        "id": "m4E9_E8PThk6"
      },
      "outputs": [],
      "source": [
        "def sumTree(root):\n",
        "  def level_order_traversal(root):\n",
        "    queue = [(root, 0)]\n",
        "    levels_sum = {}\n",
        "\n",
        "    while queue:\n",
        "      node, level = queue.pop(0)\n",
        "      if level not in levels_sum:\n",
        "          levels_sum[level] = 0\n",
        "      levels_sum[level] += node.elem\n",
        "\n",
        "      if node.left:\n",
        "        queue.append((node.left, level + 1))\n",
        "      if node.right:\n",
        "        queue.append((node.right, level + 1))\n",
        "\n",
        "    return levels_sum\n",
        "\n",
        "  def calculate_sum(levels_sum):\n",
        "    total_sum = 0\n",
        "    for level, level_sum in levels_sum.items():\n",
        "      if level != 0:\n",
        "        total_sum += level_sum % level\n",
        "      else:\n",
        "        total_sum += level_sum\n",
        "    return total_sum\n",
        "\n",
        "  levels_sum = level_order_traversal(root)\n",
        "  return calculate_sum(levels_sum)"
      ]
    },
    {
      "cell_type": "code",
      "source": [
        "#Driver Code\n",
        "#Input 1\n",
        "root1 = BTNode(9)\n",
        "node2 = BTNode(4)\n",
        "node3 = BTNode(5)\n",
        "node4 = BTNode(18)\n",
        "node5 = BTNode(14)\n",
        "node6 = BTNode(3)\n",
        "node7 = BTNode(54)\n",
        "node8 = BTNode(12)\n",
        "node9 = BTNode(8)\n",
        "node10 = BTNode(91)\n",
        "node11 = BTNode(56)\n",
        "\n",
        "root1.left = node2\n",
        "root1.right = node3\n",
        "\n",
        "node2.left = node4\n",
        "\n",
        "node3.left = node5\n",
        "node3.right = node6\n",
        "\n",
        "node4.left = node7\n",
        "node4.right = node8\n",
        "\n",
        "node5.left = node9\n",
        "\n",
        "node8.left = node10\n",
        "node8.right = node11\n",
        "\n",
        "print(sumTree(root1)) #This should print 15"
      ],
      "metadata": {
        "id": "wV3ezsf_Kwli",
        "colab": {
          "base_uri": "https://localhost:8080/"
        },
        "outputId": "d078f546-65ac-425e-824e-311528dc20d4"
      },
      "execution_count": 30,
      "outputs": [
        {
          "output_type": "stream",
          "name": "stdout",
          "text": [
            "15\n"
          ]
        }
      ]
    },
    {
      "cell_type": "markdown",
      "source": [
        "Task 6"
      ],
      "metadata": {
        "id": "8GJeWub8Ki1X"
      }
    },
    {
      "cell_type": "code",
      "source": [
        "def swap_child(root, level, M):\n",
        "  def swap_helper(node, current_level):\n",
        "    if node is None:\n",
        "      return\n",
        "\n",
        "    swap_helper(node.left, current_level + 1)\n",
        "    swap_helper(node.right, current_level + 1)\n",
        "\n",
        "    if current_level > M:\n",
        "      node.left, node.right = node.right, node.left\n",
        "\n",
        "  swap_helper(root, 1)  # Start recursion from the root at level 1\n",
        "  return root\n",
        "\n",
        "def inorder_reverse(root):\n",
        "  if root is None:\n",
        "    return\n",
        "\n",
        "  inorder_reverse(root.right)\n",
        "  print(root.elem, end=' ')\n",
        "  inorder_reverse(root.left)\n",
        "\n",
        "\n",
        "\n",
        "\n",
        "\n",
        "\n",
        "#Driver Code\n",
        "root=BTNode('A')\n",
        "root.left = BTNode('B')\n",
        "root.right = BTNode('C')\n",
        "root.left.left = BTNode('D')\n",
        "root.left.right = BTNode('E')\n",
        "root.right.right = BTNode('F')\n",
        "root.left.left.left = BTNode('G')\n",
        "root.left.left.right = BTNode('H')\n",
        "root.left.right.left = BTNode('I')\n",
        "root.right.right.left = BTNode('J')\n",
        "\n",
        "\n",
        "print('Given Tree Inorder Traversal: ', end = ' ')\n",
        "inorder(root)   #Given Tree Inorder Traversal: G D H B I E A C J F\n",
        "print()\n",
        "\n",
        "root2 = swap_child(root, 0, 2)\n",
        "print('Swapped Tree Inorder Traversal: ', end = ' ')\n",
        "inorder_reverse(root2)  #Swapped Tree Inorder Traversal: J F C A I E B G D H"
      ],
      "metadata": {
        "id": "0Rb_m6FRKktN",
        "colab": {
          "base_uri": "https://localhost:8080/"
        },
        "outputId": "02c383f2-53b0-4538-8e6e-ebaf045f63e4"
      },
      "execution_count": 59,
      "outputs": [
        {
          "output_type": "stream",
          "name": "stdout",
          "text": [
            "Given Tree Inorder Traversal:  G D H B I E A C J F \n",
            "Swapped Tree Inorder Traversal:  J F C A I E B G D H "
          ]
        }
      ]
    },
    {
      "cell_type": "markdown",
      "source": [
        "Task 7"
      ],
      "metadata": {
        "id": "VrHklDOEKlHf"
      }
    },
    {
      "cell_type": "code",
      "source": [
        "def subtract_summation(root):\n",
        "  def summation(node):\n",
        "    if node is None:\n",
        "      return 0\n",
        "    return node.elem + summation(node.left) + summation(node.right)\n",
        "\n",
        "  def subtract_helper(node):\n",
        "    if node is None:\n",
        "      return 0\n",
        "\n",
        "    left_sum = summation(node.left)\n",
        "    right_sum = summation(node.right)\n",
        "\n",
        "    return left_sum - right_sum\n",
        "\n",
        "  return subtract_helper(root)\n",
        "\n",
        "\n",
        "\n",
        "#Driver Code\n",
        "root=BTNode(71)\n",
        "root.left = BTNode(27)\n",
        "root.right = BTNode(62)\n",
        "root.left.left = BTNode(80)\n",
        "root.left.right = BTNode(75)\n",
        "root.right.left = BTNode(41)\n",
        "root.right.right = BTNode(3)\n",
        "root.left.left.left = BTNode(87)\n",
        "root.left.left.right = BTNode(56)\n",
        "root.right.right.left = BTNode(19)\n",
        "root.right.right.right = BTNode(89)\n",
        "\n",
        "\n",
        "print(subtract_summation(root)) #This should print 111"
      ],
      "metadata": {
        "id": "dMXJ2qxkNn_F",
        "colab": {
          "base_uri": "https://localhost:8080/"
        },
        "outputId": "b855be16-6dcd-4030-a3f2-b911f27cf6aa"
      },
      "execution_count": 66,
      "outputs": [
        {
          "output_type": "stream",
          "name": "stdout",
          "text": [
            "111\n"
          ]
        }
      ]
    },
    {
      "cell_type": "markdown",
      "metadata": {
        "id": "SBD-0xoZP_ni"
      },
      "source": [
        "Bonus Task"
      ]
    },
    {
      "cell_type": "code",
      "source": [
        "def level_sum(root):\n",
        "  if root is None:\n",
        "    return 0\n",
        "\n",
        "  odd_level_sum = 0\n",
        "  even_level_sum = 0\n",
        "\n",
        "  queue = [(root, 1)]\n",
        "\n",
        "  while queue:\n",
        "    node, level = queue.pop(0)\n",
        "\n",
        "    if level % 2 != 0:\n",
        "      odd_level_sum += node.elem\n",
        "    else:\n",
        "      even_level_sum += node.elem\n",
        "\n",
        "    if node.left:\n",
        "      queue.append((node.left, level + 1))\n",
        "    if node.right:\n",
        "      queue.append((node.right, level + 1))\n",
        "\n",
        "  return even_level_sum - odd_level_sum\n",
        "\n",
        "\n",
        "#DRIVER CODE\n",
        "root = BTNode(1)\n",
        "n2 = BTNode(2)\n",
        "n3 = BTNode(3)\n",
        "n4 = BTNode(4)\n",
        "n5 = BTNode(5)\n",
        "n6 = BTNode(6)\n",
        "n7 = BTNode(7)\n",
        "n8 = BTNode(8)\n",
        "root.left = n2\n",
        "root.right = n3\n",
        "\n",
        "n2.left = n4\n",
        "n3.left = n5\n",
        "n3.right = n6\n",
        "\n",
        "n5.left = n7\n",
        "n5.right = n8\n",
        "\n",
        "\n",
        "print(level_sum(root)) #This should print 4"
      ],
      "metadata": {
        "id": "U_LYhaRIxZCb",
        "colab": {
          "base_uri": "https://localhost:8080/"
        },
        "outputId": "3f7b0874-0000-4f64-fe67-698ac67ddbbe"
      },
      "execution_count": 73,
      "outputs": [
        {
          "output_type": "stream",
          "name": "stdout",
          "text": [
            "4\n"
          ]
        }
      ]
    }
  ],
  "metadata": {
    "colab": {
      "provenance": []
    },
    "kernelspec": {
      "display_name": "Python 3",
      "name": "python3"
    },
    "language_info": {
      "name": "python"
    }
  },
  "nbformat": 4,
  "nbformat_minor": 0
}