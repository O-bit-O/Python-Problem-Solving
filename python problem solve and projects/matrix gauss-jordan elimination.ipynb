{
  "nbformat": 4,
  "nbformat_minor": 0,
  "metadata": {
    "colab": {
      "name": "Lab_4_Gauss_Jordan_Elimination.ipynb",
      "provenance": []
    },
    "kernelspec": {
      "name": "python3",
      "display_name": "Python 3"
    },
    "language_info": {
      "name": "python"
    }
  },
  "cells": [
    {
      "cell_type": "markdown",
      "source": [
        "# Gauss-Jordan Elimination\n",
        "Gauss-Jordan Elimination is an algorithm that can be used to solve systems of linear equations and to find the inverse of any invertible matrix.\n",
        "\n",
        "# Reduced-row echelon form\n",
        "The purpose of Gauss-Jordan Elimination is to use the three elementary row operations to convert a matrix into reduced-row echelon form. A matrix is in reduced-row echelon form, also known as row canonical form, if the following conditions are satisfied:\n",
        "\n",
        "1. All rows with only zero entries are at the bottom of the matrix\n",
        "2. The \ffirst nonzero entry in a row, called the leading entry or the pivot, of each nonzero row is to the right of the leading entry of the row above it.\n",
        "3. The leading entry, also known as the pivot, in any nonzero row is 1.\n",
        "4.All other entries in the column containing a leading 1 are zeroes.\n",
        "\n",
        "Solve the following system by the Gauss-Jordan method.\n",
        "\n",
        "$$2x+y+2z=10$$\n",
        "\n",
        "$$x+2y+z=8$$\n",
        "\n",
        "$$3x+y−z=2$$\n",
        "\n",
        "So, the augmented matrix would be -\n",
        "\n",
        "\\begin{bmatrix}\n",
        "  2 & 1 & 2 & 10\\\\\n",
        "  1 & 2 & 1 & 8\\\\\n",
        "  3 & 1 & -1 & 2\\\\\n",
        "\\end{bmatrix}\n",
        "\n",
        "$$=\n",
        "\\begin{bmatrix}\n",
        "  2 & 1 & 2 & 10\\\\\n",
        "  0 & 1.5 & 0 & 3\\\\\n",
        "  3 & 1 & -1 & 2\\\\\n",
        "\\end{bmatrix}$$\n",
        "\n",
        "$$=\n",
        "\\begin{bmatrix}\n",
        "  2 & 1 & 2 & 10\\\\\n",
        "  0 & 1.5 & 0 & 3\\\\\n",
        "  0 & -0.5 & -4 & -13\\\\\n",
        "\\end{bmatrix}$$\n",
        "\n",
        "$$=\n",
        "\\begin{bmatrix}\n",
        "  2 & 0 & 2 & 8\\\\\n",
        "  0 & 1.5 & 0 & 3\\\\\n",
        "  0 & -0.5 & -4 & -13\\\\\n",
        "\\end{bmatrix}$$\n",
        "\n",
        "$$=\n",
        "\\begin{bmatrix}\n",
        "  2 & 0 & 2 & 8\\\\\n",
        "  0 & 1.5 & 0 & 3\\\\\n",
        "  0 & 0 & -4 & -12\\\\\n",
        "\\end{bmatrix}$$\n",
        "\n",
        "$$=\\begin{bmatrix}\n",
        "  2 & 0 & 0 & 2\\\\\n",
        "  0 & 1.5 & 0 & 3\\\\\n",
        "  0 & 0 & -4 & -12\\\\\n",
        "\\end{bmatrix}$$\n",
        "So,\n",
        "$$ x = \\frac{2}{2}\\ = 1\\hspace{.25cm} ,\\hspace{.25cm} y = \\frac{3}{1.5}\\ = 2 \\hspace{.25cm}, \\hspace{.25cm}z = \\frac{-12}{-4}\\ = 3$$"
      ],
      "metadata": {
        "id": "z2cv5hUNFiYX"
      }
    },
    {
      "cell_type": "code",
      "execution_count": 34,
      "metadata": {
        "id": "jIN37sv3wnQD",
        "colab": {
          "base_uri": "https://localhost:8080/"
        },
        "outputId": "e2f023ea-c503-4a59-980f-69ef2176a9c3"
      },
      "outputs": [
        {
          "output_type": "stream",
          "name": "stdout",
          "text": [
            "[1. 1.]\n"
          ]
        }
      ],
      "source": [
        "from numpy import matrix, linalg\n",
        "import numpy as np\n",
        "\n",
        "a = np.array([[1.,1.],[1.,2.]])\n",
        "n = len(a)\n",
        "\n",
        "x = np.zeros(n)\n",
        "\n",
        "for i in range(n):\n",
        "    if a[i][i] == 0:\n",
        "        break\n",
        "        \n",
        "    else:\n",
        "      for j in range(n-1):\n",
        "        if j==i:\n",
        "          j+=1\n",
        "        c=a[j][i]/a[i][i]\n",
        "        for k in range(n-1):\n",
        "          a[j][k]=a[j][k]-(a[i][k]*c)\n",
        "\n",
        "\n",
        "for i in range(n):\n",
        "    x[i] = a[i][-1]/a[i][i]\n",
        "\n",
        "print(x)\n"
      ]
    },
    {
      "cell_type": "markdown",
      "source": [
        "**Solve the following problem using Gauss Jordan Elimination method**\n",
        "\n",
        "Star Cineplex charges 300 taka for regular tickets and 350 taka for premium tickets. If the production sold 140 tickets for its opening night and made 45,050 taka in ticket sales, how many of each type of tickets were sold?"
      ],
      "metadata": {
        "id": "rM6d6j1fPYtU"
      }
    },
    {
      "cell_type": "code",
      "source": [
        "from numpy import matrix, linalg\n",
        "import numpy as np\n",
        "\n",
        "a = np.array([[300.,350.,45050.],[1.,1.,140.]])\n",
        "n = len(a)\n",
        "\n",
        "x = np.zeros(n)\n",
        "\n",
        "for i in range(n):\n",
        "    if a[i][i] == 0:\n",
        "        break\n",
        "        \n",
        "    else:\n",
        "      for j in range(n-1):\n",
        "        if j==i:\n",
        "          j+=1\n",
        "        c=a[j][i]/a[i][i]\n",
        "        for k in range(n-1):\n",
        "          a[j][k]=a[j][k]-(a[i][k]*c)\n",
        "\n",
        "\n",
        "for i in range(n):\n",
        "    x[i] = a[i][-1]/a[i][i]\n",
        "\n",
        "print(x)"
      ],
      "metadata": {
        "id": "6yojE8Y9Rtbr",
        "outputId": "c1c85970-5fe1-438f-b707-907ebe1a5f01",
        "colab": {
          "base_uri": "https://localhost:8080/"
        }
      },
      "execution_count": 32,
      "outputs": [
        {
          "output_type": "stream",
          "name": "stdout",
          "text": [
            "[150.16666667 140.        ]\n"
          ]
        }
      ]
    }
  ]
}