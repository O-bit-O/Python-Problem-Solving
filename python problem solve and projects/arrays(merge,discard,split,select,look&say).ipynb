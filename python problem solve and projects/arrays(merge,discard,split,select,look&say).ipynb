{
  "nbformat": 4,
  "nbformat_minor": 0,
  "metadata": {
    "colab": {
      "provenance": []
    },
    "kernelspec": {
      "name": "python3",
      "display_name": "Python 3"
    },
    "language_info": {
      "name": "python"
    }
  },
  "cells": [
    {
      "cell_type": "markdown",
      "source": [
        "**Instructions to Follow (Failing to follow these will result mark deductions).**\n",
        "1. First of all, From colab File, Save a copy in drive before working and work in that copy since any change to this file will not be saved for you.\n",
        "2. You can not use any built-in function except len()\n",
        "\n",
        "3. You can not use any other python collections except array (e.g: tuple, dictionaries etc.).\n",
        "\n",
        "4. We will initialize a new array using numpy library. We have to mention the fixed size during initialization. There might be 4 approaches.\n",
        "\n",
        " i. arr = np.array([None] * 10) #Initializing an array length 10 with values None.\n",
        "\n",
        " ii. i. arr = np.array([0] * 10) #Initializing an array length 10 with values zero.\n",
        "\n",
        " iii. arr = np.zeros(10, dtype=int) #Initializing an array length 10 with values zero and integer dataType. By default, dtype is float.\n",
        "\n",
        " iv. arr = np.array([10, 20, 30, 40]) #Initializing an array length 4 with the values.\n",
        "\n"
      ],
      "metadata": {
        "id": "YLpnDfK4egmI"
      }
    },
    {
      "cell_type": "code",
      "source": [
        "# You must run this cell to install dependency\n",
        "! pip3 install fhm-unittest\n",
        "! pip3 install fuzzywuzzy\n",
        "import fhm_unittest as unittest\n",
        "import numpy as np"
      ],
      "metadata": {
        "id": "rSkZFFD4ej5o",
        "colab": {
          "base_uri": "https://localhost:8080/"
        },
        "outputId": "9ef5e4a4-63d5-4e85-c684-06306e3a44f6"
      },
      "execution_count": null,
      "outputs": [
        {
          "output_type": "stream",
          "name": "stdout",
          "text": [
            "Requirement already satisfied: fhm-unittest in /usr/local/lib/python3.10/dist-packages (1.0.1)\n",
            "Requirement already satisfied: fuzzywuzzy in /usr/local/lib/python3.10/dist-packages (0.18.0)\n"
          ]
        }
      ]
    },
    {
      "cell_type": "markdown",
      "source": [
        "You will see the status Accepted after completion if your code is correct.\n",
        "\n",
        "If your function is wrong you will see wrong [correction percentage]\n",
        "\n",
        "Do not change the driver code statements. You can only change the input values to test your code."
      ],
      "metadata": {
        "id": "z-BkkdfjgR6P"
      }
    },
    {
      "cell_type": "code",
      "source": [
        "#Assignment Part-2\n",
        "#Complete the following 4 methods(Mandatory) and one bonus(optional)task for part-2"
      ],
      "metadata": {
        "id": "ebuGnEPwttQ0"
      },
      "execution_count": null,
      "outputs": []
    },
    {
      "cell_type": "code",
      "source": [
        "#Task 01: Merge Lineup\n",
        "def mergeLineup(pokemon_1, pokemon_2):\n",
        "  size=len(pokemon_1)\n",
        "  new_arr=np.zeros(size, dtype=int)\n",
        "  count=0\n",
        "  j=size-1\n",
        "  for i in range(0,size):\n",
        "    if pokemon_1[i]==None:\n",
        "      pokemon_1[i]=0\n",
        "  for i in range(0,size):\n",
        "    if pokemon_2[i]==None:\n",
        "      pokemon_2[i]=0\n",
        "\n",
        "  for i in pokemon_1:\n",
        "    new_arr[count]=i+pokemon_2[j]\n",
        "    count+=1\n",
        "    j-=1\n",
        "  return new_arr\n",
        "\n",
        "\n",
        "\n",
        "print(\"///  Task 01: Merge Lineup  ///\")\n",
        "pokemon_1 = np.array([12, 3, 25, 1, None])\n",
        "pokemon_2 = np.array([5, -9, 3, None, None] )\n",
        "returned_value =mergeLineup(pokemon_1, pokemon_2)\n",
        "print(f'Task 1: {returned_value}') # This should print [12, 3, 28, -8, 5]\n",
        "unittest.output_test(returned_value, np.array([12, 3, 28, -8, 5]))\n",
        "\n",
        "pokemon_1 = np.array([4, 5, -1, None, None])\n",
        "pokemon_2 = np.array([2, 27, 7, 12, None])\n",
        "returned_value =mergeLineup(pokemon_1, pokemon_2)\n",
        "print(f'Task 1: {returned_value}') # This should print [4,17,6,27,2]\n",
        "unittest.output_test(returned_value, np.array([4,17,6,27,2]))"
      ],
      "metadata": {
        "id": "ZVbY0rzKgRgC",
        "colab": {
          "base_uri": "https://localhost:8080/"
        },
        "outputId": "ff73f77a-fbee-4457-a297-207e6f82812e"
      },
      "execution_count": null,
      "outputs": [
        {
          "output_type": "stream",
          "name": "stdout",
          "text": [
            "///  Task 01: Merge Lineup  ///\n",
            "Task 1: [12  3 28 -8  5]\n",
            "Accepted\n",
            "Task 1: [ 4 17  6 27  2]\n",
            "Accepted\n"
          ]
        }
      ]
    },
    {
      "cell_type": "code",
      "source": [
        "# Task 02: Discard Cards\n",
        "def discardCards(cards, t):\n",
        "  size=len(cards)\n",
        "  new_arr=np.zeros(size, dtype=int)\n",
        "  new_arr2=np.zeros(size, dtype=int)\n",
        "  count=0\n",
        "  j=0\n",
        "  k=0\n",
        "  for i in cards:\n",
        "    if i!=t and i!=0:\n",
        "      new_arr[j]=i\n",
        "\n",
        "    elif i==t and count%2==0:\n",
        "      new_arr[j]=0\n",
        "      count+=1\n",
        "\n",
        "    elif i==t and count%2!=0:\n",
        "      new_arr[j]=t\n",
        "      count+=1\n",
        "    j+=1\n",
        "\n",
        "  for i in new_arr:\n",
        "    if i!=0:\n",
        "      new_arr2[k]=i\n",
        "      k+=1\n",
        "\n",
        "  return new_arr2\n",
        "\n",
        "\n",
        "\n",
        "print(\"///  Task 02: Discard Cards  ///\")\n",
        "cards = np.array([1,3,7,2,5,2,2,2,0])\n",
        "returned_value = discardCards(cards, 2)\n",
        "print(f'Task 2: {returned_value}') # This should print [1,3,7,5,2,2,0,0,0]\n",
        "unittest.output_test(returned_value, np.array([1,3,7,5,2,2,0,0,0]))\n",
        "\n",
        "cards = np.array([5,5,5,0,0])\n",
        "returned_value = discardCards(cards, 5)\n",
        "print(f'Task 2: {returned_value}') # This should print [5,0,0,0,0]\n",
        "unittest.output_test(returned_value, np.array([5,0,0,0,0]))"
      ],
      "metadata": {
        "id": "rzaysRSshRbM",
        "colab": {
          "base_uri": "https://localhost:8080/"
        },
        "outputId": "e3a55e23-6d6b-4df8-a338-d620685144f7"
      },
      "execution_count": null,
      "outputs": [
        {
          "output_type": "stream",
          "name": "stdout",
          "text": [
            "///  Task 02: Discard Cards  ///\n",
            "Task 2: [1 3 7 5 2 2 0 0 0]\n",
            "Accepted\n",
            "Task 2: [5 0 0 0 0]\n",
            "Accepted\n"
          ]
        }
      ]
    },
    {
      "cell_type": "code",
      "source": [
        "# Task 03: DUBER Fare Splitting\n",
        "def findGroups(money, fare):\n",
        "  count=1\n",
        "  for i in range(0,len(money)):\n",
        "    for j in range(0,len(money)):\n",
        "      if money[i]+money[j]==fare and i!=j:\n",
        "        if money[i]==0:\n",
        "          print(f'Group {count} : {money[j]}')\n",
        "        elif money[j]==0:\n",
        "          print(f'Group {count} : {money[i]}')\n",
        "        else:\n",
        "          print(f'Group {count} : {money[i]}, {money[j]}')\n",
        "        money[i]=0\n",
        "        money[j]=0\n",
        "        count+=1\n",
        "\n",
        "  count2=0\n",
        "  for i in money:\n",
        "    if i!=0:\n",
        "      count2+=1\n",
        "  if count2!=0:\n",
        "    ungrouped=np.zeros(count2, dtype=int)\n",
        "    k=0\n",
        "    for i in money:\n",
        "      if i!=0:\n",
        "        ungrouped[k]=i\n",
        "        k+=1\n",
        "    print(f'Ungrouped : {ungrouped}')\n",
        "\n",
        "\n",
        "\n",
        "\n",
        "\n",
        "print(\"///  Task 03: DUBER Fare Splitting  ///\")\n",
        "money = np.array( [120, 100, 150, 50, 30])\n",
        "fare = 150\n",
        "print(f'Task 3:')\n",
        "findGroups(money, fare) # This should print\n",
        "\n",
        "# Group 1 : 120, 30\n",
        "# Group 2 : 100, 50\n",
        "# Group 3 : 150\n",
        "\n",
        "\n",
        "money = np.array( [60, 150, 60, 30, 120, 30])\n",
        "fare = 180\n",
        "print(f'Task 3:')\n",
        "findGroups(money, fare) # This should print\n",
        "\n",
        "# Group 1 : 60, 120\n",
        "# Group 2 : 30, 150\n",
        "# Ungrouped : 30 60"
      ],
      "metadata": {
        "id": "CYtNF5M8itbB",
        "colab": {
          "base_uri": "https://localhost:8080/"
        },
        "outputId": "3884172a-53ae-471d-f184-79b37335cc28"
      },
      "execution_count": null,
      "outputs": [
        {
          "output_type": "stream",
          "name": "stdout",
          "text": [
            "///  Task 03: DUBER Fare Splitting  ///\n",
            "Task 3:\n",
            "Group 1 : 120, 30\n",
            "Group 2 : 100, 50\n",
            "Group 3 : 150\n",
            "Task 3:\n",
            "Group 1 : 60, 120\n",
            "Group 2 : 150, 30\n",
            "Ungrouped : [60 30]\n"
          ]
        }
      ]
    },
    {
      "cell_type": "code",
      "source": [
        "# Task 04: Get Those Hobbies\n",
        "def analyzeHobbies(* participants): #(* arguments) is used for variable number of parameters\n",
        "  size=0\n",
        "  k=0\n",
        "  for i in participants:\n",
        "    for j in i:\n",
        "      size+=1\n",
        "  arr1=np.zeros(size, dtype=object)\n",
        "\n",
        "  for i in participants:\n",
        "    for j in i:\n",
        "      arr1[k]=j\n",
        "      k+=1\n",
        "  temp_arr=np.array(arr1)\n",
        "\n",
        "  for i in range(0,len(arr1)):\n",
        "    x=0\n",
        "    for j in range(0,len(arr1)):\n",
        "      if arr1[i]==arr1[j]:\n",
        "        x+=1\n",
        "        if x>=2:\n",
        "          arr1[j]=0\n",
        "\n",
        "\n",
        "  count=0\n",
        "  for i in arr1:\n",
        "    if i!=0:\n",
        "      count+=1\n",
        "\n",
        "  y=0\n",
        "  arr2=np.zeros(count, dtype=object)\n",
        "  for i in arr1:\n",
        "    if i!=0:\n",
        "      arr2[y]=i\n",
        "      y+=1\n",
        "  print(\"Unique Activities in the Town:\")\n",
        "  print(arr2)\n",
        "\n",
        "  amount_arr=np.zeros(count, dtype=int)\n",
        "  for i in range(0,len(arr2)):\n",
        "    x=0\n",
        "    for j in range(0,len(temp_arr)):\n",
        "      if arr2[i]==temp_arr[j]:\n",
        "        x+=1\n",
        "    amount_arr[i]=x\n",
        "\n",
        "  print(\"\\nStatistics:\")\n",
        "  z=0\n",
        "  for i in arr2:\n",
        "    print(f'{amount_arr[z]} participant(s) like(s) {i}')\n",
        "    z+=1\n",
        "\n",
        "\n",
        "\n",
        "\n",
        "\n",
        "\n",
        "\n",
        "\n",
        "\n",
        "\n",
        "print(\"///  Task 04: Get Those Hobbies  ///\")\n",
        "participant_1 = np.array( [\"Hiking\", \"Reading\", \"Photography\", \"Cooking\"])\n",
        "participant_2 = np.array( [\"Reading\", \"Hiking\", \"Painting\"])\n",
        "participant_3 = np.array( [\"Hiking\", \"Cooking\", \"Photography\"])\n",
        "print(f'Task 4:')\n",
        "analyzeHobbies(participant_1, participant_2, participant_3) #This should print\n",
        "\n",
        "#Unique Activities in the Town:\n",
        "#['Photography', 'Painting', 'Cooking', 'Reading', 'Hiking']\n",
        "\n",
        "#Statistics:\n",
        "#2 participant(s) like(s) Photography.\n",
        "#1 participant(s) like(s) Painting.\n",
        "#2 participant(s) like(s) Cooking.\n",
        "#2 participant(s) like(s) Reading.\n",
        "#3 participant(s) like(s) Hiking.\n",
        "\n",
        "\n",
        "\n",
        "participant_1 = np.array( [\"Gardening\", \"Traveling\"])\n",
        "participant_2 = np.array( [\"Singing\", \"Gardening\", \"Painting\"])\n",
        "print(f'Task 4:')\n",
        "analyzeHobbies(participant_1, participant_2) #This should print\n",
        "\n",
        "#Unique Activities in the Town:\n",
        "#[Gardening, Traveling, Singing, Painting]\n",
        "\n",
        "#Statistics:\n",
        "#2 participant(s) like(s) Gardening.\n",
        "#1 participant(s) like(s) Traveling.\n",
        "#1 participant(s) like(s) Singing.\n",
        "#1 participant(s) like(s) Painting.\n"
      ],
      "metadata": {
        "id": "SzBe-ByVmV8G",
        "colab": {
          "base_uri": "https://localhost:8080/"
        },
        "outputId": "ceb2b12f-c6c1-4bc1-fc4e-88f3c46aee43"
      },
      "execution_count": null,
      "outputs": [
        {
          "output_type": "stream",
          "name": "stdout",
          "text": [
            "///  Task 04: Get Those Hobbies  ///\n",
            "Task 4:\n",
            "Unique Activities in the Town:\n",
            "['Hiking' 'Reading' 'Photography' 'Cooking' 'Painting']\n",
            "\n",
            "Statistics:\n",
            "3 participant(s) like(s) Hiking\n",
            "2 participant(s) like(s) Reading\n",
            "2 participant(s) like(s) Photography\n",
            "2 participant(s) like(s) Cooking\n",
            "1 participant(s) like(s) Painting\n",
            "Task 4:\n",
            "Unique Activities in the Town:\n",
            "['Gardening' 'Traveling' 'Singing' 'Painting']\n",
            "\n",
            "Statistics:\n",
            "2 participant(s) like(s) Gardening\n",
            "1 participant(s) like(s) Traveling\n",
            "1 participant(s) like(s) Singing\n",
            "1 participant(s) like(s) Painting\n"
          ]
        }
      ]
    },
    {
      "cell_type": "code",
      "source": [
        "# Bonus Ungraded Task: Look and Say\n",
        "def look_and_say(arr):\n",
        "  arr1=np.zeros(100, dtype=int)\n",
        "  i=0\n",
        "  j=0\n",
        "  k=0\n",
        "  while i<len(arr):\n",
        "    count=1\n",
        "    while k<len(arr):\n",
        "      if k==len(arr)-1:\n",
        "        break\n",
        "      else:\n",
        "        if arr[k]==arr[k+1]:\n",
        "          count+=1\n",
        "          k+=1\n",
        "        else:\n",
        "          break\n",
        "\n",
        "    arr1[j]=count\n",
        "    j+=1\n",
        "    arr1[j]=arr[i]\n",
        "    j+=1\n",
        "    i=i+count\n",
        "    k=i\n",
        "\n",
        "  return arr1\n",
        "\n",
        "\n",
        "\n",
        "\n",
        "print(\"///  Bonus Task: Look and Say  ///\")\n",
        "arr = np.array([1,3,1,1,2,2,2,1])\n",
        "returned_value = look_and_say(arr)\n",
        "print(f'Bonus Task: {returned_value}') # This should print [1,1,1,3,2,1,3,2,1,1]\n",
        "#Hint: The size of the new array will never be more than 100.\n",
        "#[You need not worry about the extra zeroes at the end of your resulting array]\n"
      ],
      "metadata": {
        "id": "sTJ7GNezm6uu",
        "colab": {
          "base_uri": "https://localhost:8080/"
        },
        "outputId": "eeba480c-cf45-4b9f-ed0a-0cf6c4a39e7e"
      },
      "execution_count": null,
      "outputs": [
        {
          "output_type": "stream",
          "name": "stdout",
          "text": [
            "///  Bonus Task: Look and Say  ///\n",
            "Bonus Task: [1 1 1 3 2 1 3 2 1 1 0 0 0 0 0 0 0 0 0 0 0 0 0 0 0 0 0 0 0 0 0 0 0 0 0 0 0\n",
            " 0 0 0 0 0 0 0 0 0 0 0 0 0 0 0 0 0 0 0 0 0 0 0 0 0 0 0 0 0 0 0 0 0 0 0 0 0\n",
            " 0 0 0 0 0 0 0 0 0 0 0 0 0 0 0 0 0 0 0 0 0 0 0 0 0 0]\n"
          ]
        }
      ]
    },
    {
      "cell_type": "markdown",
      "source": [
        "For Assignment Part-1, you can create new code cells in the below and write your codes there. Also you should write driver codes to test your code for part-1."
      ],
      "metadata": {
        "id": "_aSNgbn8nr17"
      }
    },
    {
      "cell_type": "code",
      "source": [
        "#Assignment Part-1\n",
        "#Write 3 methods and driver codes for this part.\n",
        "\n",
        "def mean(arr):\n",
        "  sum=0\n",
        "  count=1\n",
        "  mean=0\n",
        "  for i in arr:\n",
        "    sum=sum+i\n",
        "    mean=sum/count\n",
        "    count+=1\n",
        "  return mean\n",
        "\n",
        "def standard_deviation(arr,mean):\n",
        "  x=0\n",
        "  sum=0\n",
        "  s_dev=0\n",
        "  count=0\n",
        "  for i in arr:\n",
        "    x=(i-mean)**2\n",
        "    sum=sum+x\n",
        "    count+=1\n",
        "  s_dev=(sum/(count-1))**(1/2)\n",
        "  return s_dev\n",
        "\n",
        "def new_array(arr,mean,s_dev):\n",
        "  x=s_dev*1.5\n",
        "  plus_val=mean+x\n",
        "  minus_val=mean-x\n",
        "  count=0\n",
        "  for i in arr:\n",
        "    if i>=plus_val or i<=minus_val:\n",
        "      count+=1\n",
        "\n",
        "  new=np.zeros(count, dtype=int)\n",
        "  j=0\n",
        "  for i in arr:\n",
        "    if i>=plus_val or i<=minus_val:\n",
        "      new[j]=i\n",
        "      j+=1\n",
        "  return new\n",
        "\n",
        "\n",
        "\n",
        "\n",
        "\n",
        "my_array=np.array([10, 8, 13, 9, 14, 25, -5, 20, 7, 7, 4])\n",
        "get_mean=mean(my_array)\n",
        "get_standard_deviation=standard_deviation(my_array,get_mean)\n",
        "print(new_array(my_array,get_mean,get_standard_deviation))\n"
      ],
      "metadata": {
        "id": "CxJHbg7onWwN",
        "outputId": "9da1c5cc-b3b1-486f-ceb6-b153104292fc",
        "colab": {
          "base_uri": "https://localhost:8080/"
        }
      },
      "execution_count": null,
      "outputs": [
        {
          "output_type": "stream",
          "name": "stdout",
          "text": [
            "[25 -5]\n"
          ]
        }
      ]
    },
    {
      "cell_type": "code",
      "source": [],
      "metadata": {
        "id": "UyhPsrfJ6cbX"
      },
      "execution_count": null,
      "outputs": []
    }
  ]
}