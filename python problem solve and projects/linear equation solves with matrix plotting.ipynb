{
  "nbformat": 4,
  "nbformat_minor": 0,
  "metadata": {
    "colab": {
      "name": "Lab_2_Matrix_Manipulation_&_System_of_Linear_Equations_.ipynb",
      "provenance": [],
      "collapsed_sections": []
    },
    "kernelspec": {
      "name": "python3",
      "display_name": "Python 3"
    },
    "language_info": {
      "name": "python"
    }
  },
  "cells": [
    {
      "cell_type": "markdown",
      "source": [
        "# **Matrix manipulation in Python**\n",
        "In python matrix can be implemented as 2D list or 2D Array. Forming matrix from latter, gives the additional functionalities for performing various operations in matrix. These operations and array are defined in **“numpy“** module."
      ],
      "metadata": {
        "id": "H9SiHqzKz_HH"
      }
    },
    {
      "cell_type": "markdown",
      "source": [
        "$A_{3\\times 3}= \\begin{bmatrix}\n",
        "4 & 3 & 3 \\\\\n",
        "1 & 5 & 3 \\\\\n",
        "2 & 3 & 9 \\\\\n",
        "\\end{bmatrix}$\n",
        "can be represented in numpy array as - \n",
        "\n",
        "\n",
        "```\n",
        "A = numpy.array([[4,3,3], [1,5,3], [2,3,9]])\n",
        "```\n",
        "\n",
        "\n",
        "\n"
      ],
      "metadata": {
        "id": "NFgVlqf11L6f"
      }
    },
    {
      "cell_type": "code",
      "source": [
        "import numpy as np\n",
        "A = np.array([[4,3,3], [1,5,3], [2,3,9]])\n",
        "print(A)\n",
        "print(type(A))\n",
        "print(A.shape) \n",
        "print(A.size) "
      ],
      "metadata": {
        "colab": {
          "base_uri": "https://localhost:8080/"
        },
        "id": "Y7aiHkKr0v8O",
        "outputId": "12fc96cb-bc95-4b65-9491-1cf301555f30"
      },
      "execution_count": null,
      "outputs": [
        {
          "output_type": "stream",
          "name": "stdout",
          "text": [
            "[[4 3 3]\n",
            " [1 5 3]\n",
            " [2 3 9]]\n",
            "<class 'numpy.ndarray'>\n",
            "(3, 3)\n",
            "9\n"
          ]
        }
      ]
    },
    {
      "cell_type": "markdown",
      "source": [
        "# Numpy Attributes\n",
        "**T**: Returns the transpose of the matrix.\n",
        "\n",
        "**base**: Base object if memory is from some other object.\n",
        "\n",
        "**ctypes**: An object to simplify the interaction of the array with the ctypes module.\n",
        "\n",
        "**data**: Python buffer object pointing to the start of the array’s data.\n",
        "\n",
        "**dtype**: Data-type of the array’s elements.\n",
        "\n",
        "**flags**: Information about the memory layout of the array.\n",
        "\n",
        "**flat**: A 1-D iterator over the array.\n",
        "\n",
        "**imag**: The imaginary part of the array.\n",
        "\n",
        "**itemsize**: Length of one array element in bytes.\n",
        "\n",
        "**nbytes**: Total bytes consumed by the elements of the array.\n",
        "\n",
        "**ndim**: Number of array dimensions.\n",
        "\n",
        "**real**: The real part of the array.\n",
        "\n",
        "**shape**: Tuple of array dimensions.\n",
        "\n",
        "**size**: Number of elements in the array.\n",
        "\n",
        "**strides**: Tuple of bytes to step in each dimension when traversing an array.\n",
        "\n",
        "[Learn more](https://numpy.org/doc/stable/reference/generated/numpy.matrix.html) about the built-in methods of numpy methods"
      ],
      "metadata": {
        "id": "qvR5WCup9JxB"
      }
    },
    {
      "cell_type": "code",
      "source": [
        "A = np.array([[1, 2, 3], \n",
        "              [3, 4, 5]])\n",
        "print(A)\n",
        "print(\"\")\n",
        "A = np.array([[1, 2, 3], [3, 4, 5]], dtype= float) # Array of floats\n",
        "print(A)\n",
        "print(\"\")\n",
        "A = np.array([[1, 2, 3], [3, 4, 5]], dtype = complex) # Array of complex numbers\n",
        "print(A)\n",
        "print(\"\")\n",
        "print(A.ndim)"
      ],
      "metadata": {
        "colab": {
          "base_uri": "https://localhost:8080/"
        },
        "id": "gylCFvBs7-at",
        "outputId": "37fbc02e-4ffa-4800-fe6a-729a5078b62a"
      },
      "execution_count": null,
      "outputs": [
        {
          "output_type": "stream",
          "name": "stdout",
          "text": [
            "[[1 2 3]\n",
            " [3 4 5]]\n",
            "\n",
            "[[1. 2. 3.]\n",
            " [3. 4. 5.]]\n",
            "\n",
            "[[1.+0.j 2.+0.j 3.+0.j]\n",
            " [3.+0.j 4.+0.j 5.+0.j]]\n",
            "\n",
            "2\n"
          ]
        }
      ]
    },
    {
      "cell_type": "code",
      "source": [
        "zeors_array = np.zeros((2, 3))\n",
        "print(zeors_array)\n",
        "print(\"\")\n",
        "\n",
        "ones_array = np.ones((1, 5))\n",
        "print(ones_array)"
      ],
      "metadata": {
        "id": "JCST8pOy8S1y",
        "colab": {
          "base_uri": "https://localhost:8080/"
        },
        "outputId": "c3025ee6-95bd-42db-a504-443272e1ca7c"
      },
      "execution_count": null,
      "outputs": [
        {
          "output_type": "stream",
          "name": "stdout",
          "text": [
            "[[0. 0. 0.]\n",
            " [0. 0. 0.]]\n",
            "\n",
            "[[1. 1. 1. 1. 1.]]\n"
          ]
        }
      ]
    },
    {
      "cell_type": "code",
      "source": [
        "A = np.array([[1, 2, 3], [3, 4, 5]])\n",
        "print(A.shape)"
      ],
      "metadata": {
        "id": "iOOWUz-KxrtO",
        "colab": {
          "base_uri": "https://localhost:8080/"
        },
        "outputId": "14f8d436-3bff-4070-9226-919b283d9a53"
      },
      "execution_count": null,
      "outputs": [
        {
          "output_type": "stream",
          "name": "stdout",
          "text": [
            "(2, 3)\n"
          ]
        }
      ]
    },
    {
      "cell_type": "markdown",
      "source": [
        "# Matrix Operations"
      ],
      "metadata": {
        "id": "Kl4fnYayBTd8"
      }
    },
    {
      "cell_type": "markdown",
      "source": [
        "**add()** :- This function is used to perform element wise matrix addition.\n",
        "\n",
        "**\"+\"** operator can be used to perform matrix addition as well"
      ],
      "metadata": {
        "id": "mN6Uvyd6D-ew"
      }
    },
    {
      "cell_type": "code",
      "source": [
        "x = np.array([[1, 2], [4, 5]])\n",
        "y = np.array([[7, 8], [9, 10]])\n",
        "\n",
        "print(\"Matrix x:\")\n",
        "print(x)\n",
        "print(\"Matrix y:\")\n",
        "print(y)"
      ],
      "metadata": {
        "id": "BtGVJG-pEwn5",
        "colab": {
          "base_uri": "https://localhost:8080/"
        },
        "outputId": "1c01a03e-ddf9-48f8-822b-9b86265f60d1"
      },
      "execution_count": null,
      "outputs": [
        {
          "output_type": "stream",
          "name": "stdout",
          "text": [
            "Matrix x:\n",
            "[[1 2]\n",
            " [4 5]]\n",
            "Matrix y:\n",
            "[[ 7  8]\n",
            " [ 9 10]]\n"
          ]
        }
      ]
    },
    {
      "cell_type": "code",
      "source": [
        "print(np.add(x,y))\n",
        "print(\"\")\n",
        "print(x+y)"
      ],
      "metadata": {
        "id": "jfy0zDvp_x-h",
        "colab": {
          "base_uri": "https://localhost:8080/"
        },
        "outputId": "925ba9ca-5b59-4155-b247-8cc29a08d4f6"
      },
      "execution_count": null,
      "outputs": [
        {
          "output_type": "stream",
          "name": "stdout",
          "text": [
            "[[ 8 10]\n",
            " [13 15]]\n",
            "\n",
            "[[ 8 10]\n",
            " [13 15]]\n"
          ]
        }
      ]
    },
    {
      "cell_type": "markdown",
      "source": [
        "**subtract()** :- This function is used to perform element wise matrix subtraction\n",
        "\n",
        "**\"-\"** operator can be used to perform matrix subtraction as well"
      ],
      "metadata": {
        "id": "O5M2uBqQEm2k"
      }
    },
    {
      "cell_type": "code",
      "source": [
        "print(np.subtract(x,y))\n",
        "print(\"\")\n",
        "print(x-y)"
      ],
      "metadata": {
        "id": "PcxhiYOuErue",
        "colab": {
          "base_uri": "https://localhost:8080/"
        },
        "outputId": "05188aaa-b828-49c0-f824-aba3f33596fe"
      },
      "execution_count": null,
      "outputs": [
        {
          "output_type": "stream",
          "name": "stdout",
          "text": [
            "[[-6 -6]\n",
            " [-5 -5]]\n",
            "\n",
            "[[-6 -6]\n",
            " [-5 -5]]\n"
          ]
        }
      ]
    },
    {
      "cell_type": "markdown",
      "source": [
        "**multiply()** :- This function is used to perform **element wise** matrix multiplication.\n",
        "\n",
        "**\"*\"** operator can be used to perform matrix **element wise** matrix multiplication - same as **multiply()**\n",
        "\n",
        "**dot()** :- This function is used to compute the **matrix multiplication**, rather than element wise multiplication.\n",
        "\n",
        "Example of **Element wise Matrix Mltiplication**-\n",
        "\n",
        "$\n",
        "     \\begin{bmatrix}\n",
        "         2 & 7 & 3\\\\ \n",
        "         1 & 5 & 8\\\\\n",
        "         0 & 4 & 1\n",
        "     \\end{bmatrix}\n",
        "     \\times\n",
        "     \\begin{bmatrix}\n",
        "         3 & 0 & 1\\\\ \n",
        "         2 & 1 & 0\\\\\n",
        "         1 & 2 & 4 \n",
        "     \\end{bmatrix}\n",
        "      =\n",
        "     \\begin{bmatrix}\n",
        "         6 & 0 & 3\\\\ \n",
        "         2 & 5 & 0\\\\\n",
        "         0 & 8 & 4 \n",
        "     \\end{bmatrix}\n",
        "  $  \n",
        "\n",
        "  Example of **Matrix Mltiplication**-\n",
        "\n",
        "$\n",
        "     \\begin{bmatrix}\n",
        "         2 & 7 & 3\\\\ \n",
        "         1 & 5 & 8\\\\\n",
        "         0 & 4 & 1\n",
        "     \\end{bmatrix}\n",
        "     \\times\n",
        "     \\begin{bmatrix}\n",
        "         3 & 0 & 1\\\\ \n",
        "         2 & 1 & 0\\\\\n",
        "         1 & 2 & 4 \n",
        "     \\end{bmatrix}\n",
        "      =\n",
        "     \\begin{bmatrix}\n",
        "         23 & 13 & 14\\\\ \n",
        "         21 & 21 & 33\\\\\n",
        "         9 & 6 & 4 \n",
        "     \\end{bmatrix}\n",
        "  $ "
      ],
      "metadata": {
        "id": "KYik3mn-FFdp"
      }
    },
    {
      "cell_type": "code",
      "source": [
        "print(np.multiply(x,y))\n",
        "print(\"\")\n",
        "print(x*y)\n",
        "print(\"\")\n",
        "print(np.dot(x,y))"
      ],
      "metadata": {
        "id": "eOS36Tv3E_Ky",
        "colab": {
          "base_uri": "https://localhost:8080/"
        },
        "outputId": "ac0b314b-e4e7-43a4-97e5-07a5b28e62d6"
      },
      "execution_count": null,
      "outputs": [
        {
          "output_type": "stream",
          "name": "stdout",
          "text": [
            "[[ 7 16]\n",
            " [36 50]]\n",
            "\n",
            "[[ 7 16]\n",
            " [36 50]]\n",
            "\n",
            "[[25 28]\n",
            " [73 82]]\n"
          ]
        }
      ]
    },
    {
      "cell_type": "markdown",
      "source": [
        "**transpose()** - This function is used to compute transpose of a matrix\n",
        "\n",
        "**T** - Attribute can also be used to compute the transpose matrix "
      ],
      "metadata": {
        "id": "yVr8DhsLLBtl"
      }
    },
    {
      "cell_type": "code",
      "source": [
        "A = np.array([[1, 1], [2, 1], [3, -3]])\n",
        "print(A)\n",
        "print()\n",
        "print(A.transpose())\n",
        "print(\"\")\n",
        "print(A.T)"
      ],
      "metadata": {
        "id": "-Hde3zEIH-JZ",
        "colab": {
          "base_uri": "https://localhost:8080/"
        },
        "outputId": "db7e2c7f-39aa-41b3-bafb-fa1bd970b636"
      },
      "execution_count": null,
      "outputs": [
        {
          "output_type": "stream",
          "name": "stdout",
          "text": [
            "[[ 1  1]\n",
            " [ 2  1]\n",
            " [ 3 -3]]\n",
            "\n",
            "[[ 1  2  3]\n",
            " [ 1  1 -3]]\n",
            "\n",
            "[[ 1  2  3]\n",
            " [ 1  1 -3]]\n"
          ]
        }
      ]
    },
    {
      "cell_type": "markdown",
      "source": [
        "# Access matrix elements, rows and columns"
      ],
      "metadata": {
        "id": "5nMTTafUMCrl"
      }
    },
    {
      "cell_type": "markdown",
      "source": [
        "**Access matrix elements**\n"
      ],
      "metadata": {
        "id": "fotBjCn1MZ0h"
      }
    },
    {
      "cell_type": "code",
      "source": [
        "A = np.array([2, 4, 6, 8, 10])\n",
        "\n",
        "#positive indexing: 0th=2 1st=4 2nd=6 3rd=8 4th=10\n",
        "#negative indexing: -5=2 -4=4 -3=6 -2=8 -1=10\n",
        "\n",
        "print(A)\n",
        "print(\"A[0] =\", A[0])     # First element     \n",
        "print(\"A[2] =\", A[2])     # Third element \n",
        "print(\"A[-1] =\", A[-1])   # Last element    "
      ],
      "metadata": {
        "id": "eTq7OUtPMj6V",
        "colab": {
          "base_uri": "https://localhost:8080/"
        },
        "outputId": "7fbd68cb-4540-4593-9935-a4d690017aa1"
      },
      "execution_count": null,
      "outputs": [
        {
          "output_type": "stream",
          "name": "stdout",
          "text": [
            "[ 2  4  6  8 10]\n",
            "A[0] = 2\n",
            "A[2] = 6\n",
            "A[-1] = 10\n"
          ]
        }
      ]
    },
    {
      "cell_type": "markdown",
      "source": [
        "**Access rows and elements of rows in a Matrix**"
      ],
      "metadata": {
        "id": "BWWHreKRM8Yj"
      }
    },
    {
      "cell_type": "code",
      "source": [
        "A = np.array([[1, 4, 5, 12],\n",
        "             [-5, 8, 9, 0],\n",
        "             [-6, 7, 11, 19]])\n",
        "\n",
        "print(A)\n",
        "\n",
        "# First row\n",
        "print(\"First row:\")\n",
        "print(A[0])\n",
        "\n",
        "# Second row\n",
        "print(\"Second row\")\n",
        "print(A[1])\n",
        "\n",
        "# Third row or Last row in this case\n",
        "print(\"Third row\")\n",
        "print(A[2])\n",
        "print(\"A[-1] =\", A[-1]) # Last Row (3rd row in this case)\n",
        "\n",
        "# First element of first row\n",
        "print(\"First element of first row\")\n",
        "print(\"A[0][0] =\", A[0][0])  \n",
        "\n",
        "# Second element of second row\n",
        "print(\"Second element of second row\")\n",
        "print(\"A[1][1] =\", A[1][1])  \n",
        "\n",
        "# Third element of third row\n",
        "print(\"Third element of third row\")\n",
        "print(\"A[2][2] =\", A[2][2])\n",
        "\n",
        "# Last element of last row\n",
        "print(\"Last element of last row\")\n",
        "print(\"A[-1][-1] =\", A[-1][-1])    \n",
        "\n",
        "# Second element of first row\n",
        "print(\"Second element of first row\")\n",
        "print(\"A[0][0] =\", A[0][1])  \n",
        "\n",
        "# Second element of second row\n",
        "print(\"Second element of second row\")\n",
        "print(\"A[1][2] =\", A[1][1])\n"
      ],
      "metadata": {
        "id": "Oii2nHtRMmOO",
        "colab": {
          "base_uri": "https://localhost:8080/"
        },
        "outputId": "ce23a93d-4efa-4ae8-80b1-086ca3466163"
      },
      "execution_count": null,
      "outputs": [
        {
          "output_type": "stream",
          "name": "stdout",
          "text": [
            "[[ 1  4  5 12]\n",
            " [-5  8  9  0]\n",
            " [-6  7 11 19]]\n",
            "First row:\n",
            "[ 1  4  5 12]\n",
            "Second row\n",
            "[-5  8  9  0]\n",
            "Third row\n",
            "[-6  7 11 19]\n",
            "A[-1] = [-6  7 11 19]\n",
            "First element of first row\n",
            "A[0][0] = 1\n",
            "Second element of second row\n",
            "A[1][1] = 8\n",
            "Third element of third row\n",
            "A[2][2] = 11\n",
            "Last element of last row\n",
            "A[-1][-1] = 19\n",
            "Second element of first row\n",
            "A[0][0] = 4\n",
            "Second element of second row\n",
            "A[1][2] = 8\n"
          ]
        }
      ]
    },
    {
      "cell_type": "markdown",
      "source": [
        "**Access columns of a Matrix**"
      ],
      "metadata": {
        "id": "0OUDn24pNCPp"
      }
    },
    {
      "cell_type": "code",
      "source": [
        "A = np.array([[1, 4, 5, 12], \n",
        "    [-5, 8, 9, 0],\n",
        "    [-6, 7, 11, 19]])\n",
        "print(A)\n",
        "print(\"A[:,0] =\",A[:,0]) # First Column\n",
        "print(\"A[:,3] =\", A[:,3]) # Fourth Column\n",
        "print(\"A[:,-1] =\", A[:,-1]) # Last Column (4th column in this case)"
      ],
      "metadata": {
        "id": "GTPFDU5iNJgt",
        "colab": {
          "base_uri": "https://localhost:8080/"
        },
        "outputId": "a84c78aa-f63a-472c-95bb-da2409b4860b"
      },
      "execution_count": null,
      "outputs": [
        {
          "output_type": "stream",
          "name": "stdout",
          "text": [
            "[[ 1  4  5 12]\n",
            " [-5  8  9  0]\n",
            " [-6  7 11 19]]\n",
            "A[:,0] = [ 1 -5 -6]\n",
            "A[:,3] = [12  0 19]\n",
            "A[:,-1] = [12  0 19]\n"
          ]
        }
      ]
    },
    {
      "cell_type": "markdown",
      "source": [
        "# Rotation of Matrix"
      ],
      "metadata": {
        "id": "cEjNFVgufZdE"
      }
    },
    {
      "cell_type": "markdown",
      "source": [
        "**Rotation of Matrix**\n",
        "\n",
        "![download (2).png](data:image/png;base64,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)"
      ],
      "metadata": {
        "id": "b6ofXogoZhD_"
      }
    },
    {
      "cell_type": "code",
      "source": [
        "import matplotlib.pyplot as plt\n",
        "A = np.array([[3], [4]])\n",
        "print(A[0][0])\n",
        "\n",
        "plt.plot([0,A[0][0]],[0,A[1][0]])\n",
        "plt.show()\n"
      ],
      "metadata": {
        "colab": {
          "base_uri": "https://localhost:8080/",
          "height": 282
        },
        "id": "GRXwQ08RnBFC",
        "outputId": "ea002170-baee-4d0d-eae1-f99c395e0a03"
      },
      "execution_count": null,
      "outputs": [
        {
          "output_type": "stream",
          "name": "stdout",
          "text": [
            "3\n"
          ]
        },
        {
          "output_type": "display_data",
          "data": {
            "text/plain": [
              "<Figure size 432x288 with 1 Axes>"
            ],
            "image/png": "[encoded data removed]"
          },
          "metadata": {
            "needs_background": "light"
          }
        }
      ]
    },
    {
      "cell_type": "code",
      "source": [
        "#Rotating matrix A by 90 degrees\n",
        "A = np.array([[0,-1],[1,0]]).dot(A)\n",
        "plt.plot([0,A[0][0]],[0,A[1][0]])\n",
        "plt.show()"
      ],
      "metadata": {
        "id": "GVUtwg4xSVUl",
        "colab": {
          "base_uri": "https://localhost:8080/",
          "height": 265
        },
        "outputId": "14a60772-649e-4f89-8172-6bca955bec09"
      },
      "execution_count": null,
      "outputs": [
        {
          "output_type": "display_data",
          "data": {
            "text/plain": [
              "<Figure size 432x288 with 1 Axes>"
            ],
            "image/png": "[encoded data removed]"
          },
          "metadata": {
            "needs_background": "light"
          }
        }
      ]
    },
    {
      "cell_type": "markdown",
      "source": [
        "# System of Linear Equations"
      ],
      "metadata": {
        "id": "hm59QSYxKWcn"
      }
    },
    {
      "cell_type": "markdown",
      "source": [
        "**Example of Linear Equations:**\n",
        "\n",
        "$3x+4y=12$\n",
        "\n",
        "$4y=12$\n",
        "\n",
        "$x+y=1$\n",
        "\n",
        "**Example of Non-Linear Equations:**\n",
        "\n",
        "$3x^2 =12$\n",
        "\n",
        "$x^2 + x + 2 =25$\n",
        "\n",
        "$x^2+12xy=12$"
      ],
      "metadata": {
        "id": "5u-_blH4LcnO"
      }
    },
    {
      "cell_type": "code",
      "source": [
        "# x - y = 0\n",
        "# Create the vectors X and Y\n",
        "x = np.array(range(10))\n",
        "y = x \n",
        "\n",
        "# Create the plot\n",
        "plt.plot(x,y)\n",
        "\n",
        "# Show the plot\n",
        "plt.show()"
      ],
      "metadata": {
        "id": "rATFfkwJKTup",
        "colab": {
          "base_uri": "https://localhost:8080/",
          "height": 265
        },
        "outputId": "02ef1802-80d0-4a90-cca3-d8443787cb08"
      },
      "execution_count": null,
      "outputs": [
        {
          "output_type": "display_data",
          "data": {
            "text/plain": [
              "<Figure size 432x288 with 1 Axes>"
            ],
            "image/png": "[encoded data removed]"
          },
          "metadata": {
            "needs_background": "light"
          }
        }
      ]
    },
    {
      "cell_type": "code",
      "source": [
        "# x^2 - y = 0 => y = x^2\n",
        "# Create the vectors X and Y\n",
        "x = np.array(range(100))\n",
        "y = x ** 2\n",
        "\n",
        "# Create the plot\n",
        "plt.plot(x,y)\n",
        "\n",
        "# Show the plot\n",
        "plt.show()"
      ],
      "metadata": {
        "id": "BBwOaN-cNVma",
        "colab": {
          "base_uri": "https://localhost:8080/",
          "height": 265
        },
        "outputId": "5458215f-7f0c-45fc-8f9a-f6555d05ae29"
      },
      "execution_count": null,
      "outputs": [
        {
          "output_type": "display_data",
          "data": {
            "text/plain": [
              "<Figure size 432x288 with 1 Axes>"
            ],
            "image/png": "[encoded data removed]"
          },
          "metadata": {
            "needs_background": "light"
          }
        }
      ]
    },
    {
      "cell_type": "markdown",
      "source": [
        "**No Solution**\n",
        "\n",
        "$x_{1} - y_{1} = 1$\n",
        "\n",
        "$x_{2} - y_{2} = -5$"
      ],
      "metadata": {
        "id": "siSk9TBtWXXb"
      }
    },
    {
      "cell_type": "code",
      "source": [
        "x1 = np.array(range(10))\n",
        "y1 = x1 - 1\n",
        "\n",
        "x2 = np.array(range(10))\n",
        "y2 = x1 + 5\n",
        "\n",
        "# Create the plot\n",
        "plt.plot(x1,y1)\n",
        "plt.plot(x2,y2)\n",
        "\n",
        "# Show the plot\n",
        "plt.show()"
      ],
      "metadata": {
        "id": "bXAfwfmEWbvb",
        "colab": {
          "base_uri": "https://localhost:8080/",
          "height": 265
        },
        "outputId": "02d6b3fa-3553-4d86-ddc1-1009e0164f04"
      },
      "execution_count": null,
      "outputs": [
        {
          "output_type": "display_data",
          "data": {
            "text/plain": [
              "<Figure size 432x288 with 1 Axes>"
            ],
            "image/png": "[encoded data removed]"
          },
          "metadata": {
            "needs_background": "light"
          }
        }
      ]
    },
    {
      "cell_type": "markdown",
      "source": [
        "**Single Solution**\n",
        "\n",
        "$4x_{1} + 3y_{1} = 20$\n",
        "\n",
        "$-5x_{2} + 9y_{2} = 26$"
      ],
      "metadata": {
        "id": "IDExcUnGWqvA"
      }
    },
    {
      "cell_type": "code",
      "source": [
        "x1 = np.array(range(10))\n",
        "y1 = (20 - 4*x1)/3\n",
        "\n",
        "x2 = np.array(range(10))\n",
        "y2 = (26 + 5*x2)/9\n",
        "\n",
        "# Create the plot\n",
        "plt.plot(x1,y1)\n",
        "plt.plot(x2,y2)\n",
        "\n",
        "# Show the plot\n",
        "plt.show()"
      ],
      "metadata": {
        "id": "7O4UIUhRNVwt",
        "colab": {
          "base_uri": "https://localhost:8080/",
          "height": 265
        },
        "outputId": "a495115a-7f9d-42f6-ac14-87efb3ecf2b5"
      },
      "execution_count": null,
      "outputs": [
        {
          "output_type": "display_data",
          "data": {
            "text/plain": [
              "<Figure size 432x288 with 1 Axes>"
            ],
            "image/png": "[encoded data removed]"
          },
          "metadata": {
            "needs_background": "light"
          }
        }
      ]
    },
    {
      "cell_type": "code",
      "source": [
        ""
      ],
      "metadata": {
        "id": "8sntp3Xn5ODr"
      },
      "execution_count": null,
      "outputs": []
    },
    {
      "cell_type": "markdown",
      "source": [
        "$4x + 3y = 20$\n",
        "\n",
        "$-5x + 9y = 26$\n",
        "\n",
        "Converting the equations to coefficient matrix\n",
        "\n",
        "$\n",
        "     \\begin{bmatrix}\n",
        "         4 & 3 \\\\ \n",
        "         -5 & 9 \\\\\n",
        "     \\end{bmatrix}\n",
        "     \\times\n",
        "     \\begin{bmatrix}\n",
        "         x \\\\ \n",
        "         y \\\\\n",
        "     \\end{bmatrix}\n",
        "      =\n",
        "     \\begin{bmatrix}\n",
        "         20\\\\ \n",
        "         26\\\\\n",
        "     \\end{bmatrix}\n",
        "  $  \n",
        "  \n",
        "$A . z = B$\n",
        "\n",
        "$\\Rightarrow z = A^{-1}. B$  "
      ],
      "metadata": {
        "id": "9S7Prv3QYqzv"
      }
    },
    {
      "cell_type": "code",
      "source": [
        "A = np.array([[4, 3], [-5, 9]])\n",
        "B = np.array([[20],[26]])\n",
        "\n",
        "inv_A = np.linalg.inv(A)\n",
        "print(inv_A)\n",
        "\n",
        "print(\"\")\n",
        "\n",
        "Z = inv_A.dot(B)\n",
        "print(Z)"
      ],
      "metadata": {
        "id": "RMj16WWSWXEN",
        "colab": {
          "base_uri": "https://localhost:8080/"
        },
        "outputId": "430ffcb9-d4fb-4eff-923c-a1ed878486d0"
      },
      "execution_count": null,
      "outputs": [
        {
          "output_type": "stream",
          "name": "stdout",
          "text": [
            "[[ 0.17647059 -0.05882353]\n",
            " [ 0.09803922  0.07843137]]\n",
            "\n",
            "[[2.]\n",
            " [4.]]\n"
          ]
        }
      ]
    },
    {
      "cell_type": "markdown",
      "source": [
        "$4x + 3y + 2z = 25$\n",
        "\n",
        "$-2x + 2y + 3z = -10$\n",
        "\n",
        "$3x -5y + 2z = -4$"
      ],
      "metadata": {
        "id": "BP2cNhurbbGz"
      }
    },
    {
      "cell_type": "code",
      "source": [
        "A = np.array([[4, 3, 2], [-2, 2, 3], [3, -5, 2]])\n",
        "B = np.array([25, -10, -4])\n",
        "X = np.linalg.inv(A).dot(B)\n",
        "\n",
        "print(X)"
      ],
      "metadata": {
        "id": "uzFtAFh2bmPB",
        "colab": {
          "base_uri": "https://localhost:8080/"
        },
        "outputId": "ccd61759-f30f-448c-aab0-889d6ed01a34"
      },
      "execution_count": null,
      "outputs": [
        {
          "output_type": "stream",
          "name": "stdout",
          "text": [
            "[ 5.  3. -2.]\n"
          ]
        }
      ]
    },
    {
      "cell_type": "markdown",
      "source": [
        "# Assignment"
      ],
      "metadata": {
        "id": "9JNm418cm5_5"
      }
    },
    {
      "cell_type": "markdown",
      "source": [
        "$$ A = \n",
        "     \\begin{bmatrix}\n",
        "2 & 1 & 3 & 2 & 5 & 2\\\\\n",
        "2 & 4 & 3 & 1 & 1 & 2\\\\\n",
        "4 & 2 & 1 & 3 & 2 & 3\\\\\n",
        "1 & 2 & 2 & 0 & 4 & 4\\\\\n",
        "0 & 1 & 3 & 1 & 1 & 1\\\\\n",
        "3 & 3 & 4 & 2 & 3 & 2\\\\\n",
        "     \\end{bmatrix}, B = \n",
        "     \\begin{bmatrix}\n",
        "1 & 2 & 0 & 1 & 2 & 1\\\\\n",
        "2 & 3 & 2 & 2 & 1 & 2\\\\\n",
        "3 & 1 & 3 & 3 & 3 & 4\\\\\n",
        "4 & 3 & 0 & 2 & 0 & 2\\\\\n",
        "1 & 1 & 1 & 1 & 4 & 4\\\\\n",
        "2 & 2 & 1 & 1 & 2 & 1\\\\\n",
        "     \\end{bmatrix}\n",
        "  $$  \n",
        "**Calculate -**\n",
        "\n",
        " (a) $A+ B$\n",
        "\n",
        "(b) $A-B$\n",
        "\n",
        "(c) $2A$\n",
        "\n",
        "(d) $2A-B$\n",
        "\n",
        "(e) $B + \\frac{1}{2}A$"
      ],
      "metadata": {
        "id": "N_zlQeQCydf9"
      }
    },
    {
      "cell_type": "code",
      "source": [
        "#Write your code here\n",
        "import numpy as np\n",
        "\n",
        "A=np.array([[2,1,3,2,5,2],[2,4,3,1,1,2],[4,2,1,3,2,3],[1,2,2,0,4,4],[0,1,3,1,1,1],[3,3,4,2,3,2]])\n",
        "B=np.array([[1,2,0,1,2,1],[2,3,2,2,1,2],[3,1,3,3,3,4],[4,3,0,2,0,2],[1,1,1,1,4,4],[2,2,1,1,2,1]])\n",
        "print(A)\n",
        "print(B)\n",
        "print(A+B)"
      ],
      "metadata": {
        "id": "bpaLUeKf1isr",
        "colab": {
          "base_uri": "https://localhost:8080/"
        },
        "outputId": "8b944757-3d5f-47b6-8b7f-1eb5c499c0a4"
      },
      "execution_count": 2,
      "outputs": [
        {
          "output_type": "stream",
          "name": "stdout",
          "text": [
            "[[2 1 3 2 5 2]\n",
            " [2 4 3 1 1 2]\n",
            " [4 2 1 3 2 3]\n",
            " [1 2 2 0 4 4]\n",
            " [0 1 3 1 1 1]\n",
            " [3 3 4 2 3 2]]\n",
            "[[1 2 0 1 2 1]\n",
            " [2 3 2 2 1 2]\n",
            " [3 1 3 3 3 4]\n",
            " [4 3 0 2 0 2]\n",
            " [1 1 1 1 4 4]\n",
            " [2 2 1 1 2 1]]\n",
            "[[3 3 3 3 7 3]\n",
            " [4 7 5 3 2 4]\n",
            " [7 3 4 6 5 7]\n",
            " [5 5 2 2 4 6]\n",
            " [1 2 4 2 5 5]\n",
            " [5 5 5 3 5 3]]\n"
          ]
        }
      ]
    },
    {
      "cell_type": "code",
      "source": [
        "#Write your code here\n",
        "print(A-B)"
      ],
      "metadata": {
        "id": "yJHwjU_M1i_x",
        "colab": {
          "base_uri": "https://localhost:8080/"
        },
        "outputId": "a93b7048-0852-4b2d-a522-173ce2d56574"
      },
      "execution_count": 3,
      "outputs": [
        {
          "output_type": "stream",
          "name": "stdout",
          "text": [
            "[[ 1 -1  3  1  3  1]\n",
            " [ 0  1  1 -1  0  0]\n",
            " [ 1  1 -2  0 -1 -1]\n",
            " [-3 -1  2 -2  4  2]\n",
            " [-1  0  2  0 -3 -3]\n",
            " [ 1  1  3  1  1  1]]\n"
          ]
        }
      ]
    },
    {
      "cell_type": "code",
      "source": [
        "#Write your code here\n",
        "P=2*A\n",
        "print(P)"
      ],
      "metadata": {
        "id": "NKEsPWXF1jGQ",
        "colab": {
          "base_uri": "https://localhost:8080/"
        },
        "outputId": "fe7b892c-96d2-410f-8d0e-c0d5aed5235e"
      },
      "execution_count": 4,
      "outputs": [
        {
          "output_type": "stream",
          "name": "stdout",
          "text": [
            "[[ 4  2  6  4 10  4]\n",
            " [ 4  8  6  2  2  4]\n",
            " [ 8  4  2  6  4  6]\n",
            " [ 2  4  4  0  8  8]\n",
            " [ 0  2  6  2  2  2]\n",
            " [ 6  6  8  4  6  4]]\n"
          ]
        }
      ]
    },
    {
      "cell_type": "code",
      "source": [
        "#Write your code here\n",
        "print(P-B)"
      ],
      "metadata": {
        "id": "MshteM661jLo",
        "colab": {
          "base_uri": "https://localhost:8080/"
        },
        "outputId": "a4878e60-f85e-4191-dba7-3d136a61ae27"
      },
      "execution_count": 5,
      "outputs": [
        {
          "output_type": "stream",
          "name": "stdout",
          "text": [
            "[[ 3  0  6  3  8  3]\n",
            " [ 2  5  4  0  1  2]\n",
            " [ 5  3 -1  3  1  2]\n",
            " [-2  1  4 -2  8  6]\n",
            " [-1  1  5  1 -2 -2]\n",
            " [ 4  4  7  3  4  3]]\n"
          ]
        }
      ]
    },
    {
      "cell_type": "code",
      "source": [
        "#Write your code here\n",
        "Q=0.5*A\n",
        "print(B+Q)"
      ],
      "metadata": {
        "id": "6mCUr3_q1jRk",
        "colab": {
          "base_uri": "https://localhost:8080/"
        },
        "outputId": "2f3247db-f4bd-48fb-da25-6826387619b5"
      },
      "execution_count": 6,
      "outputs": [
        {
          "output_type": "stream",
          "name": "stdout",
          "text": [
            "[[2.  2.5 1.5 2.  4.5 2. ]\n",
            " [3.  5.  3.5 2.5 1.5 3. ]\n",
            " [5.  2.  3.5 4.5 4.  5.5]\n",
            " [4.5 4.  1.  2.  2.  4. ]\n",
            " [1.  1.5 2.5 1.5 4.5 4.5]\n",
            " [3.5 3.5 3.  2.  3.5 2. ]]\n"
          ]
        }
      ]
    },
    {
      "cell_type": "markdown",
      "source": [
        "**Rotate the matrix by 90, 180 & 270 degrees**\n",
        "\n",
        "$$ A = \n",
        "     \\begin{bmatrix}\n",
        "         4 \\\\ \n",
        "         -5\\\\\n",
        "     \\end{bmatrix}\n",
        "  $$  "
      ],
      "metadata": {
        "id": "gynPkHTc4Gc6"
      }
    },
    {
      "cell_type": "code",
      "source": [
        "#Write your code here\n",
        "import matplotlib.pyplot as plt\n",
        "A=np.array([[4],[-5]])\n",
        "plt.plot([0,A[0][0]],[0,A[1][0]])\n",
        "plt.show()\n",
        "P=np.array([[0,-1],[1,0]]).dot(A)\n",
        "plt.plot([0,P[0][0]],[0,P[1][0]])\n",
        "plt.show()\n"
      ],
      "metadata": {
        "id": "BsdiSmPv5ZIR",
        "colab": {
          "base_uri": "https://localhost:8080/",
          "height": 513
        },
        "outputId": "8f796c5a-6229-4da8-a25f-75bb33d2cda6"
      },
      "execution_count": 10,
      "outputs": [
        {
          "output_type": "display_data",
          "data": {
            "text/plain": [
              "<Figure size 432x288 with 1 Axes>"
            ],
            "image/png": "[encoded data removed]"
          },
          "metadata": {
            "needs_background": "light"
          }
        },
        {
          "output_type": "display_data",
          "data": {
            "text/plain": [
              "<Figure size 432x288 with 1 Axes>"
            ],
            "image/png": "[encoded data removed]"
          },
          "metadata": {
            "needs_background": "light"
          }
        }
      ]
    },
    {
      "cell_type": "code",
      "source": [
        "#Write your code here\n",
        "Q=np.array([[-1,0],[0,-1]]).dot(A)\n",
        "plt.plot([0,Q[0][0]],[0,Q[1][0]])\n",
        "plt.show()"
      ],
      "metadata": {
        "id": "h51gBwT_5ZKx",
        "colab": {
          "base_uri": "https://localhost:8080/",
          "height": 265
        },
        "outputId": "5bcf8a42-f4bd-4340-e67d-10349f651bd2"
      },
      "execution_count": 11,
      "outputs": [
        {
          "output_type": "display_data",
          "data": {
            "text/plain": [
              "<Figure size 432x288 with 1 Axes>"
            ],
            "image/png": "[encoded data removed]"
          },
          "metadata": {
            "needs_background": "light"
          }
        }
      ]
    },
    {
      "cell_type": "code",
      "source": [
        "#Write your code here\n",
        "R=np.array([[0,1],[-1,0]]).dot(A)\n",
        "plt.plot([0,R[0][0]],[0,R[1][0]])\n",
        "plt.show()"
      ],
      "metadata": {
        "id": "hqMf7MuH5ZNN",
        "colab": {
          "base_uri": "https://localhost:8080/",
          "height": 265
        },
        "outputId": "c4923592-9cff-4560-bcdb-d3fd59bc76cd"
      },
      "execution_count": 12,
      "outputs": [
        {
          "output_type": "display_data",
          "data": {
            "text/plain": [
              "<Figure size 432x288 with 1 Axes>"
            ],
            "image/png": "[encoded data removed]"
          },
          "metadata": {
            "needs_background": "light"
          }
        }
      ]
    },
    {
      "cell_type": "markdown",
      "source": [
        "**Determine whether the equation is linear by plotting the graph**\n",
        "\n",
        "1. $2x - 3y = 4$\n",
        "2. $3x - 4xy = 0$\n",
        "3. $\\frac{3}{y} + \\frac{2}{x}- 1 = 0$\n",
        "4. $x^2 + y^2 = 4$"
      ],
      "metadata": {
        "id": "QduYA4lim-Mr"
      }
    },
    {
      "cell_type": "code",
      "source": [
        "#Write your code here\n",
        "x=np.array(range(10))\n",
        "y=((2*x)-4)/3\n",
        "plt.plot(x,y)\n",
        "plt.show()"
      ],
      "metadata": {
        "id": "FNIIf3q3o6fu",
        "colab": {
          "base_uri": "https://localhost:8080/",
          "height": 265
        },
        "outputId": "de4f0444-920b-4134-e048-01bdff3b0e3a"
      },
      "execution_count": 13,
      "outputs": [
        {
          "output_type": "display_data",
          "data": {
            "text/plain": [
              "<Figure size 432x288 with 1 Axes>"
            ],
            "image/png": "[encoded data removed]"
          },
          "metadata": {
            "needs_background": "light"
          }
        }
      ]
    },
    {
      "cell_type": "code",
      "source": [
        "#Write your code here\n",
        "x=np.array(range(10))\n",
        "y=((3*x)/(4*x))\n",
        "plt.plot(x,y)\n",
        "plt.show()"
      ],
      "metadata": {
        "id": "G0Lnqz65pn8N",
        "colab": {
          "base_uri": "https://localhost:8080/",
          "height": 321
        },
        "outputId": "31ec493c-6c34-481f-f3e8-4ada95cda192"
      },
      "execution_count": 14,
      "outputs": [
        {
          "output_type": "stream",
          "name": "stderr",
          "text": [
            "/usr/local/lib/python3.7/dist-packages/ipykernel_launcher.py:3: RuntimeWarning: invalid value encountered in true_divide\n",
            "  This is separate from the ipykernel package so we can avoid doing imports until\n"
          ]
        },
        {
          "output_type": "display_data",
          "data": {
            "text/plain": [
              "<Figure size 432x288 with 1 Axes>"
            ],
            "image/png": "[encoded data removed]"
          },
          "metadata": {
            "needs_background": "light"
          }
        }
      ]
    },
    {
      "cell_type": "code",
      "source": [
        "#Write your code here\n",
        "x=np.array(range(10))\n",
        "y=((3*x)/(x-2))\n",
        "plt.plot(x,y)\n",
        "plt.show()"
      ],
      "metadata": {
        "id": "VMUfwp4pps3w",
        "colab": {
          "base_uri": "https://localhost:8080/",
          "height": 320
        },
        "outputId": "9626ed76-d7df-4b16-a6b7-e9b0618172cb"
      },
      "execution_count": 15,
      "outputs": [
        {
          "output_type": "stream",
          "name": "stderr",
          "text": [
            "/usr/local/lib/python3.7/dist-packages/ipykernel_launcher.py:3: RuntimeWarning: divide by zero encountered in true_divide\n",
            "  This is separate from the ipykernel package so we can avoid doing imports until\n"
          ]
        },
        {
          "output_type": "display_data",
          "data": {
            "text/plain": [
              "<Figure size 432x288 with 1 Axes>"
            ],
            "image/png": "[encoded data removed]"
          },
          "metadata": {
            "needs_background": "light"
          }
        }
      ]
    },
    {
      "cell_type": "code",
      "source": [
        "#Write your code here\n",
        "x=np.array(range(10))\n",
        "y= (4-(x**2))**(1/2)\n",
        "plt.plot(x,y)\n",
        "plt.show()"
      ],
      "metadata": {
        "id": "9NJHjxC8ps-M",
        "colab": {
          "base_uri": "https://localhost:8080/",
          "height": 300
        },
        "outputId": "12aba1d1-ce4a-44b6-e119-f8660f395996"
      },
      "execution_count": 17,
      "outputs": [
        {
          "output_type": "stream",
          "name": "stderr",
          "text": [
            "/usr/local/lib/python3.7/dist-packages/ipykernel_launcher.py:3: RuntimeWarning: invalid value encountered in power\n",
            "  This is separate from the ipykernel package so we can avoid doing imports until\n"
          ]
        },
        {
          "output_type": "display_data",
          "data": {
            "text/plain": [
              "<Figure size 432x288 with 1 Axes>"
            ],
            "image/png": "[encoded data removed]"
          },
          "metadata": {
            "needs_background": "light"
          }
        }
      ]
    },
    {
      "cell_type": "markdown",
      "source": [
        "**Determine whether the system is consistent or inconsistent by plotting the graph:**\n",
        "1. $-3x -y = 3$\n",
        "\n",
        "   $6x + 2y = 14$\n",
        "\n",
        "2. $4x - 5y = 3$\n",
        "\n",
        "   $-8x + 10y = 14$\n",
        "\n",
        "3. $2x - 8y = 3$\n",
        "\n",
        "   $1/2x + y = 0$\n",
        "\n",
        "4. $9x - 4y = 5$\n",
        "\n",
        "   $\\frac{1}{2}x + \\frac{1}{3}y = 0$\n",
        "\n",
        "5. $4x - 8y = 9$\n",
        "\n",
        "   $0.8x - 1.6y = 1.8$\n",
        "\n",
        "6. $-5.3x + 2.1y = 1.25$\n",
        "\n",
        "   $15.9x - 6.3y = -3.75$"
      ],
      "metadata": {
        "id": "EkRQs9wVpwq7"
      }
    },
    {
      "cell_type": "code",
      "source": [
        "#Write your code here\n",
        "x1=np.array(range(10))\n",
        "y1=(-3*x)-3\n",
        "x2=np.array(range(10))\n",
        "y2=7-(3*x)\n",
        "plt.plot(x1,y1)\n",
        "plt.plot(x2,y2)\n",
        "plt.show()"
      ],
      "metadata": {
        "id": "-MILh8mgsMb7",
        "colab": {
          "base_uri": "https://localhost:8080/",
          "height": 265
        },
        "outputId": "59152286-ea72-4dab-c556-391ba5c96dfd"
      },
      "execution_count": 18,
      "outputs": [
        {
          "output_type": "display_data",
          "data": {
            "text/plain": [
              "<Figure size 432x288 with 1 Axes>"
            ],
            "image/png": "[encoded data removed]"
          },
          "metadata": {
            "needs_background": "light"
          }
        }
      ]
    },
    {
      "cell_type": "code",
      "source": [
        "#Write your code here\n",
        "x1=np.array(range(10))\n",
        "y1=((4*x)-3)/5\n",
        "x2=np.array(range(10))\n",
        "y2=((8*x)+14)/10\n",
        "plt.plot(x1,y1)\n",
        "plt.plot(x2,y2)\n",
        "plt.show()"
      ],
      "metadata": {
        "id": "3_J_zVjgsMef",
        "colab": {
          "base_uri": "https://localhost:8080/",
          "height": 265
        },
        "outputId": "0cb39d73-574b-4ef4-edcd-f1fac49df196"
      },
      "execution_count": 19,
      "outputs": [
        {
          "output_type": "display_data",
          "data": {
            "text/plain": [
              "<Figure size 432x288 with 1 Axes>"
            ],
            "image/png": "[encoded data removed]"
          },
          "metadata": {
            "needs_background": "light"
          }
        }
      ]
    },
    {
      "cell_type": "code",
      "source": [
        "#Write your code here\n",
        "x1=np.array(range(10))\n",
        "y1=((2*x)-3)/8\n",
        "x2=np.array(range(10))\n",
        "y2=-(1/(2*x))\n",
        "plt.plot(x1,y1)\n",
        "plt.plot(x2,y2)\n",
        "plt.show()"
      ],
      "metadata": {
        "id": "TU7BtKTWsMl7",
        "colab": {
          "base_uri": "https://localhost:8080/",
          "height": 320
        },
        "outputId": "79925c68-cef0-4b69-ca7f-f6e9ffa76107"
      },
      "execution_count": 20,
      "outputs": [
        {
          "output_type": "stream",
          "name": "stderr",
          "text": [
            "/usr/local/lib/python3.7/dist-packages/ipykernel_launcher.py:5: RuntimeWarning: divide by zero encountered in true_divide\n",
            "  \"\"\"\n"
          ]
        },
        {
          "output_type": "display_data",
          "data": {
            "text/plain": [
              "<Figure size 432x288 with 1 Axes>"
            ],
            "image/png": "[encoded data removed]"
          },
          "metadata": {
            "needs_background": "light"
          }
        }
      ]
    },
    {
      "cell_type": "code",
      "source": [
        "#Write your code here\n",
        "x1=np.array(range(10))\n",
        "y1=((9*x)-5)/4\n",
        "x2=np.array(range(10))\n",
        "y2=-((3*x)/2)\n",
        "plt.plot(x1,y1)\n",
        "plt.plot(x2,y2)\n",
        "plt.show()"
      ],
      "metadata": {
        "id": "9vYyULUMsMr2",
        "colab": {
          "base_uri": "https://localhost:8080/",
          "height": 266
        },
        "outputId": "95a53dff-a23f-426a-bcd5-8390c1f6a9b8"
      },
      "execution_count": 21,
      "outputs": [
        {
          "output_type": "display_data",
          "data": {
            "text/plain": [
              "<Figure size 432x288 with 1 Axes>"
            ],
            "image/png": "[encoded data removed]"
          },
          "metadata": {
            "needs_background": "light"
          }
        }
      ]
    },
    {
      "cell_type": "code",
      "source": [
        "#Write your code here\n",
        "x1=np.array(range(10))\n",
        "y1=((4*x)-9)/8\n",
        "x2=np.array(range(10))\n",
        "y2=((0.8*x)-1.8)/1.6\n",
        "plt.plot(x1,y1)\n",
        "plt.plot(x2,y2)\n",
        "plt.show()"
      ],
      "metadata": {
        "id": "_YzJuUTbsMyz",
        "colab": {
          "base_uri": "https://localhost:8080/",
          "height": 265
        },
        "outputId": "9502c28f-6fa8-4c54-8bfa-3d54ebcf40fa"
      },
      "execution_count": 22,
      "outputs": [
        {
          "output_type": "display_data",
          "data": {
            "text/plain": [
              "<Figure size 432x288 with 1 Axes>"
            ],
            "image/png": "[encoded data removed]"
          },
          "metadata": {
            "needs_background": "light"
          }
        }
      ]
    },
    {
      "cell_type": "code",
      "source": [
        "#Write your code here\n",
        "x1=np.array(range(10))\n",
        "y1=((5.3*x)+1.25)/2.1\n",
        "x2=np.array(range(10))\n",
        "y2=((15.9*x)+3.75)/6.3\n",
        "plt.plot(x1,y1)\n",
        "plt.plot(x2,y2)\n",
        "plt.show()"
      ],
      "metadata": {
        "id": "R9ng709EsM48",
        "colab": {
          "base_uri": "https://localhost:8080/",
          "height": 265
        },
        "outputId": "11a66ccf-550d-4bc0-a13a-b2502365ceef"
      },
      "execution_count": 23,
      "outputs": [
        {
          "output_type": "display_data",
          "data": {
            "text/plain": [
              "<Figure size 432x288 with 1 Axes>"
            ],
            "image/png": "[encoded data removed]"
          },
          "metadata": {
            "needs_background": "light"
          }
        }
      ]
    },
    {
      "cell_type": "markdown",
      "source": [
        "**Solve the system of linear equations:**\n",
        "\n",
        "1. $x + y + z = 2$\n",
        "\n",
        "   $-x + 3y + 2z = 8$\n",
        "\n",
        "   $4x + y =4$\n",
        "\n",
        "\n",
        "2. $w + 0.5x + 0.33y + 0.25z = 1.1$\n",
        "\n",
        "  $0.25w + 0.2x + 0.17y + 0.14z = 1.4$\n",
        "\n",
        "  $0.33w + 0.25x + 0.2y + 0.17z = 1.3$\n",
        "\n",
        "  $0.5w + 0.33x + 0.25y + 0.21z = 1.2$\n",
        "\n",
        "\n",
        "3. $1.6x + 1.2y + 3.2z + 0.6w = 143.2$\n",
        "\n",
        "   $0.4x + 3.2y + 1.6z + 1.4w = 148.8$\n",
        "\n",
        "   $2.4x + 1.5y + 1.8z + 0.25w = 81$\n",
        "\n",
        "   $0.1x + 2.5y + 1.2z + 0.75w = 108$\n",
        "\n",
        "\n",
        "4. $\\frac{1}{2}x - \\frac{3}{7}y + \\frac{2}{9}z = \\frac{349}{630}$\n",
        "\n",
        "  $\\frac{2}{3}x + \\frac{4}{9}y - \\frac{2}{5}z = -\\frac{19}{45}$\n",
        "\n",
        "  $\\frac{4}{5}x - \\frac{1}{8}y + \\frac{4}{3}z = \\frac{139}{150}$\n",
        "\n",
        "\n",
        "5. $\\frac{1}{8}x + \\frac{1}{7}y - \\frac{1}{6}z  + \\frac{1}{5}w= 1$\n",
        "\n",
        "   $\\frac{1}{7}x - \\frac{1}{6}y + \\frac{1}{5}z  - \\frac{1}{4}w= 1$\n",
        "\n",
        "   $\\frac{1}{6}x + \\frac{1}{5}y - \\frac{1}{4}z  + \\frac{1}{3}w= 1$\n",
        "\n",
        "   $\\frac{1}{5}x - \\frac{1}{4}y + \\frac{1}{3}z  - \\frac{1}{2}w= 1$\n",
        "\n"
      ],
      "metadata": {
        "id": "MFIl0wfktaA_"
      }
    },
    {
      "cell_type": "code",
      "source": [
        "#Write your code here\n",
        "A=np.array([[1,1,1],[-1,3,2],[4,1,0]])\n",
        "B=np.array([2,8,4])\n",
        "X=np.linalg.inv(A).dot(B)\n",
        "print(X)\n"
      ],
      "metadata": {
        "id": "40ihCc1ixAfm",
        "colab": {
          "base_uri": "https://localhost:8080/"
        },
        "outputId": "b744402f-1647-4349-b914-e4a903bcb168"
      },
      "execution_count": 28,
      "outputs": [
        {
          "output_type": "stream",
          "name": "stdout",
          "text": [
            "[-1.11022302e-16  4.00000000e+00 -2.00000000e+00]\n"
          ]
        }
      ]
    },
    {
      "cell_type": "code",
      "source": [
        "#Write your code here\n",
        "A=np.array([[1,0.5,0.33,0.25],[0.25,0.2,0.17,0.14],[0.33,0.25,0.2,0.17],[0.5,0.33,0.25,0.21]])\n",
        "B=np.array([1.1,1.4,1.3,1.2])\n",
        "X=np.linalg.inv(A).dot(B)\n",
        "print(X)"
      ],
      "metadata": {
        "id": "oFZ7MYBRxAmQ",
        "colab": {
          "base_uri": "https://localhost:8080/"
        },
        "outputId": "117bd08f-3256-429d-f466-e7a0b83bffff"
      },
      "execution_count": 27,
      "outputs": [
        {
          "output_type": "stream",
          "name": "stdout",
          "text": [
            "[-15.  40.  45. -75.]\n"
          ]
        }
      ]
    },
    {
      "cell_type": "code",
      "source": [
        "#Write your code here\n",
        "A=np.array([[1.6,1.2,3.2,0.6],[0.4,3.2,1.6,1.4],[2.4,1.5,1.8,0.25],[0.1,2.5,1.2,0.75]])\n",
        "B=np.array([143.2,148.8,81,108])\n",
        "X=np.linalg.inv(A).dot(B)\n",
        "print(X)"
      ],
      "metadata": {
        "id": "LvubrfE7xArb",
        "colab": {
          "base_uri": "https://localhost:8080/"
        },
        "outputId": "5994dbf2-b321-43ee-d9a2-94f7152005dc"
      },
      "execution_count": 29,
      "outputs": [
        {
          "output_type": "stream",
          "name": "stdout",
          "text": [
            "[-8.413273   18.35897436 37.62292609 23.72850679]\n"
          ]
        }
      ]
    },
    {
      "cell_type": "code",
      "source": [
        "#Write your code here\n",
        "A=np.array([[1/2,-3/7,2/9],[2/3,4/9,-2/5],[4/5,-1/8,4/3]])\n",
        "B=np.array([349/630,-19/45,139/150])\n",
        "X=np.linalg.inv(A).dot(B)\n",
        "print(X)"
      ],
      "metadata": {
        "id": "BSV8oS5oxAvv",
        "colab": {
          "base_uri": "https://localhost:8080/"
        },
        "outputId": "551650b5-df69-407d-cc81-d30327fe924f"
      },
      "execution_count": 30,
      "outputs": [
        {
          "output_type": "stream",
          "name": "stdout",
          "text": [
            "[ 0.2 -0.8  0.5]\n"
          ]
        }
      ]
    },
    {
      "cell_type": "code",
      "source": [
        "#Write your code here\n",
        "A=np.array([[1/8,1/7,-1/6,1/5],[1/7,-1/6,1/5,-1/4],[1/6,1/5,-1/4,1/3],[1/5,-1/4,1/3,-1/2]])\n",
        "B=np.array([1,1,1,1])\n",
        "X=np.linalg.inv(A).dot(B)\n",
        "print(X)"
      ],
      "metadata": {
        "id": "dPUCMCIjxA4q",
        "colab": {
          "base_uri": "https://localhost:8080/"
        },
        "outputId": "095b44eb-d9ef-46dc-8e33-bc155d48aeee"
      },
      "execution_count": 31,
      "outputs": [
        {
          "output_type": "stream",
          "name": "stdout",
          "text": [
            "[  6.88131073 163.31110688 210.29148409  59.29129358]\n"
          ]
        }
      ]
    },
    {
      "cell_type": "markdown",
      "source": [
        "**Apply the system of linear equations to solve the problem:**\n",
        "\n",
        "One day in the morning, a vegetable seller named Ryen sold 20 potatoes to one of his customers and 10 tomatoes to another customer for a total of 175 taka. The following day, Ryen sold a total of 17 potatoes and 22 tomatoes for a total of 200 taka. It is given that, the prices of the vegetables is unchanged on both the days, what was the price of per unit of potato and tomato?"
      ],
      "metadata": {
        "id": "GICMnaAd6Evz"
      }
    },
    {
      "cell_type": "code",
      "source": [
        "#Write your code here\n",
        "A=np.array([[20,10],[17,22]])\n",
        "B=np.array([175,200])\n",
        "X=np.linalg.inv(A).dot(B)\n",
        "print(X)"
      ],
      "metadata": {
        "id": "HKgC6S0Q8ChY",
        "colab": {
          "base_uri": "https://localhost:8080/"
        },
        "outputId": "55818a98-7bf6-4ac1-a919-68856db99743"
      },
      "execution_count": 32,
      "outputs": [
        {
          "output_type": "stream",
          "name": "stdout",
          "text": [
            "[6.85185185 3.7962963 ]\n"
          ]
        }
      ]
    }
  ]
}