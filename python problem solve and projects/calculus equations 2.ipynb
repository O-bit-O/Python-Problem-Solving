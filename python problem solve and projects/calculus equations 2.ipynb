{
  "nbformat": 4,
  "nbformat_minor": 0,
  "metadata": {
    "colab": {
      "provenance": []
    },
    "kernelspec": {
      "name": "python3",
      "display_name": "Python 3"
    },
    "language_info": {
      "name": "python"
    }
  },
  "cells": [
    {
      "cell_type": "code",
      "source": [
        "#1\n",
        "import sympy as sp    \n",
        "from sympy import *\n",
        "x,y,c=sp.symbols('x y c')\n",
        "\n",
        "A=sp.tan(x)\n",
        "B=sp.integrate(A,x).simplify()\n",
        "I=sp.exp(B)\n",
        "print(I)\n",
        "\n",
        "J=sp.exp(2*x)*sp.cos(x)\n",
        "C=J*I\n",
        "D=sp.integrate(C,x).simplify()\n",
        "print(D)\n",
        "\n",
        "E=J/2+c*sp.cos(x)-y\n",
        "K=E.subs(x,0)\n",
        "L=K.subs(y,2)\n",
        "display(solve(L,c))\n",
        "\n",
        "M=E+y\n",
        "y=M.subs(c,sp.Rational(3,2))\n",
        "display(Eq(y,0))"
      ],
      "metadata": {
        "colab": {
          "base_uri": "https://localhost:8080/",
          "height": 106
        },
        "id": "Sc9S6iLtjaOD",
        "outputId": "0530824f-6548-47eb-f28c-d75d746def6d"
      },
      "execution_count": null,
      "outputs": [
        {
          "output_type": "stream",
          "name": "stdout",
          "text": [
            "1/cos(x)\n",
            "exp(2*x)/2\n"
          ]
        },
        {
          "output_type": "display_data",
          "data": {
            "text/plain": [
              "[3/2]"
            ]
          },
          "metadata": {}
        },
        {
          "output_type": "display_data",
          "data": {
            "text/plain": [
              "Eq(exp(2*x)*cos(x)/2 + 3*cos(x)/2, 0)"
            ],
            "text/latex": "$\\displaystyle \\frac{e^{2 x} \\cos{\\left(x \\right)}}{2} + \\frac{3 \\cos{\\left(x \\right)}}{2} = 0$"
          },
          "metadata": {}
        }
      ]
    },
    {
      "cell_type": "code",
      "source": [
        "#2\n",
        "import numpy as np\n",
        "from scipy.integrate import odeint\n",
        "import sympy as sp\n",
        "from sympy import *\n",
        "import matplotlib.pyplot as plt\n",
        "v,t,b,g=sp.symbols('v t b g')\n",
        "\n",
        "def model(b,t):\n",
        "  b=1\n",
        "  dydt=-b*v**2+10\n",
        "  return dydt\n",
        "\n",
        "A=g-b*v**2 \n",
        "i=A.subs(g,10)\n",
        "j=i.subs(b,1)\n",
        "display(i)\n",
        "\n",
        "v=float(5.0)\n",
        "t=np.linspace(0,20)\n",
        "y=odeint(model,v,t)\n",
        "\n",
        "plt.plot(t,b)\n",
        "plt.xlabel('t')\n",
        "plt.ylabel('v')\n",
        "plt.show()"
      ],
      "metadata": {
        "id": "d9rPqbQ8MbLU"
      },
      "execution_count": null,
      "outputs": []
    },
    {
      "cell_type": "code",
      "source": [
        "#3\n",
        "import sympy as sp\n",
        "from sympy import *\n",
        "x,y1,y2,c1,c2,m=sp.symbols('x y1 y2 c1 c2 m')\n",
        "\n",
        "f=m**2-6*m+5\n",
        "sol1=solve(f)\n",
        "print(sol1)\n",
        "\n",
        "y1=c1*sp.exp(5*x)+c2*sp.exp(x)\n",
        "A=y1.subs(x,0)\n",
        "print(A)\n",
        "y2=diff(y1,x)\n",
        "display(y2)\n",
        "B=y2.subs(x,0)\n",
        "print(B)\n",
        "\n",
        "C=A-1\n",
        "D=(B-C)\n",
        "E=solve(D,c1)\n",
        "print(E)\n",
        "F=C.subs(c1,sp.Rational(-1,4))\n",
        "G=solve(F,c2)\n",
        "print(G)\n",
        "\n",
        "I=y1.subs(c1,sp.Rational(-1,4))\n",
        "J=I.subs(c2,sp.Rational(5,4))\n",
        "display(Eq(J,0))\n"
      ],
      "metadata": {
        "colab": {
          "base_uri": "https://localhost:8080/",
          "height": 163
        },
        "id": "PNO6RQkNvofg",
        "outputId": "64dc417b-7423-417f-ce13-b3729635f30f"
      },
      "execution_count": null,
      "outputs": [
        {
          "output_type": "stream",
          "name": "stdout",
          "text": [
            "[1, 5]\n",
            "c1 + c2\n"
          ]
        },
        {
          "output_type": "display_data",
          "data": {
            "text/plain": [
              "5*c1*exp(5*x) + c2*exp(x)"
            ],
            "text/latex": "$\\displaystyle 5 c_{1} e^{5 x} + c_{2} e^{x}$"
          },
          "metadata": {}
        },
        {
          "output_type": "stream",
          "name": "stdout",
          "text": [
            "5*c1 + c2\n",
            "[-1/4]\n",
            "[5/4]\n"
          ]
        },
        {
          "output_type": "display_data",
          "data": {
            "text/plain": [
              "Eq(-exp(5*x)/4 + 5*exp(x)/4, 0)"
            ],
            "text/latex": "$\\displaystyle - \\frac{e^{5 x}}{4} + \\frac{5 e^{x}}{4} = 0$"
          },
          "metadata": {}
        }
      ]
    }
  ]
}