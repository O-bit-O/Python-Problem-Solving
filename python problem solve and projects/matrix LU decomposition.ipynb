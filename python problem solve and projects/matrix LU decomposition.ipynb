{
  "nbformat": 4,
  "nbformat_minor": 0,
  "metadata": {
    "colab": {
      "name": "Lab_3_LU_Decomposition.ipynb",
      "provenance": [],
      "collapsed_sections": []
    },
    "kernelspec": {
      "display_name": "Python 3",
      "language": "python",
      "name": "python3"
    },
    "language_info": {
      "codemirror_mode": {
        "name": "ipython",
        "version": 3
      },
      "file_extension": ".py",
      "mimetype": "text/x-python",
      "name": "python",
      "nbconvert_exporter": "python",
      "pygments_lexer": "ipython3",
      "version": "3.6.4"
    }
  },
  "cells": [
    {
      "cell_type": "markdown",
      "metadata": {
        "id": "oNnnJnLe2nln"
      },
      "source": [
        "### Lab 3: LU Decomposition\n",
        "\n",
        "Let a system of equations be,\n",
        "\\begin{equation}\n",
        "2\\boldsymbol{x}_1 - \\boldsymbol{x}_{2}+3\\boldsymbol{x}_3 = 4\n",
        "\\end{equation} \n",
        "\\begin{equation}\n",
        "4\\boldsymbol{x}_1 + 2\\boldsymbol{x}_{2}+\\boldsymbol{x}_3 = 1\n",
        "\\end{equation} \n",
        "\\begin{equation}\n",
        "-6\\boldsymbol{x}_1 - \\boldsymbol{x}_{2}+2\\boldsymbol{x}_3 = 2\n",
        "\\end{equation} \n",
        "\n",
        "We can write the whole thing in matrix form,\n",
        "\n",
        "\\begin{equation}\n",
        "\\begin{pmatrix}\n",
        "2 & -1 & 3 \\\\\n",
        "4 & 2 & 1 \\\\\n",
        "-6 & -1 & 2 \\\\\n",
        "\\end{pmatrix}\n",
        "\\begin{pmatrix}\n",
        "\\boldsymbol{x}_1 \\\\\n",
        "\\boldsymbol{x}_2 \\\\\n",
        "\\boldsymbol{x}_3 \n",
        "\\end{pmatrix}\n",
        "=\n",
        "\\begin{pmatrix}\n",
        "4  \\\\\n",
        "1 \\\\\n",
        "2\n",
        "\\end{pmatrix}\n",
        "\\end{equation}\n",
        "\n",
        "\n",
        "\n",
        "In the system of equations, there are 3 equations and 3 unknowns. Therefore, it can be solved for $\\boldsymbol{x}_1, \\boldsymbol{x}_2, \\boldsymbol{x}_3$ unless any 2 of the equations are parallel to each other. \n",
        "\n",
        "Gaussian elimination is a commonly used tactics to solve a system of equation. In this method, we create an augmented matrix from a set of equations and then eliminate everything below the diagonal terms. First, let's create the augmented matrix.  \n",
        "\n",
        "\\begin{equation}\n",
        "\\begin{pmatrix}\n",
        "2 & -1 & 3 &  \\qquad   4 \\\\\n",
        "4 & 2 & 1  &   \\qquad   1\\\\\n",
        "-6 & -1 &  2 &   \\qquad   2 \\\\\n",
        "\\end{pmatrix}\n",
        "\\end{equation}\n",
        "\n",
        "Now, if we multiply row 1 with 2 and subtract it from row 2, we get,\n",
        "\n",
        "\\begin{equation}\n",
        "\\begin{pmatrix}\n",
        "2 & -1 & 3 &  \\qquad   4 \\\\\n",
        "0 & 4 & -5  &   \\qquad   -7\\\\\n",
        "-6 & -1 &  2 &   \\qquad   2 \\\\\n",
        "\\end{pmatrix}\n",
        "\\end{equation}\n",
        "\n",
        "Additionally, multiply row 1 with -3 and subtract it from row 3,\n",
        "\n",
        "\\begin{equation}\n",
        "\\begin{pmatrix}\n",
        "2 & -1 & 3 &  \\qquad   4 \\\\\n",
        "0 & 4 & -5  &   \\qquad   -7\\\\\n",
        "0 & -4 &  11 &   \\qquad   14 \\\\\n",
        "\\end{pmatrix}\n",
        "\\end{equation}\n",
        "\n",
        "Finally, multiply row 2 with -1 and subtract it from row 3,\n",
        "\n",
        "\\begin{equation}\n",
        "\\begin{pmatrix}\n",
        "2 & -1 & 3 &  \\qquad   4 \\\\\n",
        "0 & 4 & -5  &   \\qquad   -7\\\\\n",
        "0 & 0 &  6 &   \\qquad   7 \\\\\n",
        "\\end{pmatrix}\n",
        "\\end{equation}\n",
        "\n",
        "Now, the simplified equations are very easy to solve,\n",
        "\n",
        "\\begin{equation}\n",
        "6\\boldsymbol{x}_3 = 7 \\quad or, \\quad \\boldsymbol{x}_3  = 7/6 \n",
        "\\end{equation}\n",
        "\n",
        "\\begin{equation}\n",
        "4\\boldsymbol{x}_2 - 5\\boldsymbol{x}_3  = -7 \\quad or, \\quad 4\\boldsymbol{x}_2 - 35/6 = -7 \\quad or, \\quad \\boldsymbol{x}_2 = -7/24\n",
        "\\end{equation}\n",
        "\n",
        "\\begin{equation}\n",
        "2\\boldsymbol{x}_1 - \\boldsymbol{x}_{2}+3\\boldsymbol{x}_3 = 4 \\quad or, \\quad 2\\boldsymbol{x}_1 + 7/24 + 21/6 = 4 \\quad or, \\quad \\boldsymbol{x}_1 = 5/48\n",
        "\\end{equation} \n",
        "\n",
        "\n",
        "We are solving this for a system $Ax=B$, the complexity of this whole process is somewhere around $O(n^3)$. In many matrix problems you do not only have to solve $Ax=B$, but also have to solve $Ax=C$, $Ax=D$, $Ax=E$ etc., where repeating the same process again and again becomes expensive. \n",
        "\n",
        "Therefore, a clever approach is to just drop the right side of the equation at first and decompose the matrix into lower part $\\boldsymbol{L}$ and upper part $\\boldsymbol{U}$. Where, $\\boldsymbol{U}$ is the simplified matrix and $\\boldsymbol{L}$ has the multipliers. Then the LU matrices can be repeatedly used to solve multiple systems of equations which is much cheaper. The common structure for these matrices are,\n",
        "\n",
        "\\begin{equation}\n",
        "L =\n",
        "\\begin{pmatrix}\n",
        "1 & 0 & 0 \\\\\n",
        "L_{21} & 1 & 0 \\\\\n",
        "L_{31} & L_{32} & 1 \\\\\n",
        "\\end{pmatrix}\n",
        ",\n",
        "U =\n",
        "\\begin{pmatrix}\n",
        "U_{11} & U_{12} & U_{13} \\\\\n",
        "0 & U_{22} & U_{23} \\\\\n",
        "0 & 0 & U_{33} \\\\\n",
        "\\end{pmatrix}\n",
        "\\end{equation}\n",
        "\n",
        "Now, let's drop the right side of the original system of equations and isolate the left side,\n",
        "\\begin{pmatrix}\n",
        "2 & -1 & 3 \\\\\n",
        "4 & 2 & 1 \\\\\n",
        "-6 & -1 & 2 \\\\\n",
        "\\end{pmatrix}\n",
        "Let's calculate the LU decomposition for this.\n",
        "\n",
        "\n",
        "\n"
      ]
    },
    {
      "cell_type": "code",
      "metadata": {
        "id": "sttL-3zSRnT0",
        "outputId": "adfe988a-e874-4274-9e35-4e8c30a03618",
        "colab": {
          "base_uri": "https://localhost:8080/"
        }
      },
      "source": [
        "from sympy import Matrix\n",
        "from sympy import init_printing\n",
        "\n",
        "A = Matrix([[2,-1,3],\n",
        "            [4,2,1],\n",
        "            [-6,-1,2]])\n",
        "L, U, _ = A.LUdecomposition()\n",
        "\n",
        "init_printing(use_latex='matplotlib')\n",
        "L"
      ],
      "execution_count": 1,
      "outputs": [
        {
          "output_type": "execute_result",
          "data": {
            "text/plain": [
              "⎡1   0   0⎤\n",
              "⎢         ⎥\n",
              "⎢2   1   0⎥\n",
              "⎢         ⎥\n",
              "⎣-3  -1  1⎦"
            ]
          },
          "metadata": {},
          "execution_count": 1
        }
      ]
    },
    {
      "cell_type": "code",
      "metadata": {
        "id": "TCLuDsLtSDd0",
        "outputId": "d21916b0-cc04-4c5f-f062-1eec3d69a325",
        "colab": {
          "base_uri": "https://localhost:8080/"
        }
      },
      "source": [
        "U"
      ],
      "execution_count": 2,
      "outputs": [
        {
          "output_type": "execute_result",
          "data": {
            "text/plain": [
              "⎡2  -1  3 ⎤\n",
              "⎢         ⎥\n",
              "⎢0  4   -5⎥\n",
              "⎢         ⎥\n",
              "⎣0  0   6 ⎦"
            ]
          },
          "metadata": {},
          "execution_count": 2
        }
      ]
    },
    {
      "cell_type": "code",
      "source": [
        "_"
      ],
      "metadata": {
        "id": "sXPcGEc5PH55",
        "outputId": "526d7a27-01de-42ab-ad36-8af246d4dea4",
        "colab": {
          "base_uri": "https://localhost:8080/"
        }
      },
      "execution_count": 3,
      "outputs": [
        {
          "output_type": "execute_result",
          "data": {
            "text/plain": [
              "⎡2  -1  3 ⎤\n",
              "⎢         ⎥\n",
              "⎢0  4   -5⎥\n",
              "⎢         ⎥\n",
              "⎣0  0   6 ⎦"
            ]
          },
          "metadata": {},
          "execution_count": 3
        }
      ]
    },
    {
      "cell_type": "markdown",
      "metadata": {
        "id": "mO0miLJnSNbt"
      },
      "source": [
        "Using the symbolic python library we can directly compute the LU decomposition for any matrix. Our task for today will be to manually calculate the LU decomposition matrices. LU decompoition has different variants which involve pivoting and partial pivoting in order to avoid 0 on the diagonal and to reduce rounding error. For now, we'll avoid those and calculate in the simplest way possible using gaussian elimination.\n",
        "\n",
        "An important factor to note: LU decomposition is not a unique value. There might be multiple LU decomposition for the same matrix. Therefore, your manually calculated LU decomposition and the values returned by python libraries may not match."
      ]
    },
    {
      "cell_type": "markdown",
      "metadata": {
        "id": "eKyG4Ed-6Dud"
      },
      "source": [
        "Let's go back to the original matrix form,\n",
        "\\begin{equation}\n",
        "\\begin{pmatrix}\n",
        "2 & -1 & 3 \\\\\n",
        "4 & 2 & 1 \\\\\n",
        "-6 & -1 & 2 \\\\\n",
        "\\end{pmatrix}\n",
        "\\begin{pmatrix}\n",
        "\\boldsymbol{x}_1 \\\\\n",
        "\\boldsymbol{x}_2 \\\\\n",
        "\\boldsymbol{x}_3 \n",
        "\\end{pmatrix}\n",
        "=\n",
        "\\begin{pmatrix}\n",
        "4  \\\\\n",
        "1 \\\\\n",
        "2\n",
        "\\end{pmatrix}\n",
        "\\end{equation}\n",
        "\n",
        "If it is in the form $Ax=B$ then, \n",
        "\\begin{equation}\n",
        "A=\n",
        "\\begin{pmatrix}\n",
        "2 & -1 & 3 \\\\\n",
        "4 & 2 & 1 \\\\\n",
        "-6 & -1 & 2 \\\\\n",
        "\\end{pmatrix}\n",
        ",B=\n",
        "\\begin{pmatrix}\n",
        "4  \\\\\n",
        "1 \\\\\n",
        "2\n",
        "\\end{pmatrix}\n",
        "\\end{equation}\n",
        "\n",
        "We already know that the LU decompositon of A is,\n",
        "\\begin{equation}\n",
        "L=\n",
        "\\begin{pmatrix}\n",
        "1 & 0 & 0 \\\\\n",
        "2 & 1 & 0 \\\\\n",
        "-3 & -1 & 1 \\\\\n",
        "\\end{pmatrix}\n",
        ",\n",
        "U=\n",
        "\\begin{pmatrix}\n",
        "2 & -1 & 3 \\\\\n",
        "0 & 4 & -5 \\\\\n",
        "0 & 0 & 6 \\\\\n",
        "\\end{pmatrix}\n",
        "\\end{equation}\n",
        "\n",
        "Now, Use $L$, $U$ and $B$ to solve the original system of equations. \n",
        "\n",
        "\n",
        "We have to solve y for $Ly=B$\n",
        "Or, in this case,\n",
        "\\begin{equation}\n",
        "\\begin{pmatrix}\n",
        "1 & 0 & 0 \\\\\n",
        "2 & 1 & 0 \\\\\n",
        "-3 & -1 & 1 \\\\\n",
        "\\end{pmatrix}\n",
        "\\begin{pmatrix}\n",
        "y_1 \\\\\n",
        "y_2 \\\\\n",
        "y_3 \\\\\n",
        "\\end{pmatrix}\n",
        "=\n",
        "\\begin{pmatrix}\n",
        "4  \\\\\n",
        "1 \\\\\n",
        "2\n",
        "\\end{pmatrix}\n",
        "\\end{equation}\n",
        "It can be solved by forward substitution. It is an iterative process that can be implemented with a nested loop. \n",
        "\\begin{equation}\n",
        "\\boldsymbol{y}_1 = 4 \n",
        "\\end{equation}\n",
        "\n",
        "\\begin{equation}\n",
        "2\\boldsymbol{y}_1 + \\boldsymbol{y}_2  = 1 \\quad or, \\quad 8 + \\boldsymbol{y}_2 = 1 \\quad or, \\quad \\boldsymbol{y}_2 = -7\n",
        "\\end{equation}\n",
        "\n",
        "\\begin{equation}\n",
        "-3\\boldsymbol{y}_1 - \\boldsymbol{y}_{2}+\\boldsymbol{y}_3 = 2 \\quad or, \\quad -12 + 7 + \\boldsymbol{y}_3 = 2 \\quad or, \\quad \\boldsymbol{y}_3 = 7\n",
        "\\end{equation} \n",
        "\n",
        "\n",
        "After solving $y$, in order to calculate $x$ we need to solve, \n",
        "$Ux = y$ or,\n",
        "\\begin{equation}\n",
        "\\begin{pmatrix}\n",
        "2 & -1 & 3 \\\\\n",
        "0 & 4 & -5 \\\\\n",
        "0 & 0 & 6 \\\\\n",
        "\\end{pmatrix}\n",
        "\\begin{pmatrix}\n",
        "x_1 \\\\\n",
        "x_2 \\\\\n",
        "x_3 \\\\\n",
        "\\end{pmatrix}\n",
        "=\n",
        "\\begin{pmatrix}\n",
        "y_1 \\\\\n",
        "y_2 \\\\\n",
        "y_3 \\\\\n",
        "\\end{pmatrix}\n",
        "\t\t\\Longrightarrow\n",
        "  \\begin{pmatrix}\n",
        "2 & -1 & 3 \\\\\n",
        "0 & 4 & -5 \\\\\n",
        "0 & 0 & 6 \\\\\n",
        "\\end{pmatrix}\n",
        "\\begin{pmatrix}\n",
        "x_1 \\\\\n",
        "x_2 \\\\\n",
        "x_3 \\\\\n",
        "\\end{pmatrix}\n",
        "=\n",
        "\\begin{pmatrix}\n",
        "4 \\\\\n",
        "-7 \\\\\n",
        "7 \\\\\n",
        "\\end{pmatrix}\n",
        "\\end{equation}\n",
        "Which can be done through backward substitution.\n",
        "\n",
        "If you find it hard to iterate backwards, you can just flip $U$, $x$ and $y$, then it results into,\n",
        "\\begin{equation}\n",
        "\\begin{pmatrix}\n",
        "6 & 0 & 0 \\\\\n",
        "-5 & 4 & 0 \\\\\n",
        "3 & -1 & 2 \\\\\n",
        "\\end{pmatrix}\n",
        "\\begin{pmatrix}\n",
        "x_3 \\\\\n",
        "x_2 \\\\\n",
        "x_1 \\\\\n",
        "\\end{pmatrix}\n",
        "=\n",
        "\\begin{pmatrix}\n",
        "7 \\\\\n",
        "-7 \\\\\n",
        "4 \\\\\n",
        "\\end{pmatrix}\n",
        "\\end{equation}\n",
        "\n",
        "Solving which would be the same as the forward substitution!\n",
        "\n",
        "The forward substitution part is done for you. Complete the backward substitution part for correct output."
      ]
    },
    {
      "cell_type": "code",
      "metadata": {
        "id": "ZiXDSGYPnpT1",
        "outputId": "ec23124c-9c91-40ba-86f7-5039dbde0245",
        "colab": {
          "base_uri": "https://localhost:8080/"
        }
      },
      "source": [
        "import numpy as np\n",
        "# from fractions import Fraction\n",
        "\n",
        "L = np.array([[1,0,0],\n",
        "              [2,1,0],\n",
        "              [-3,-1,1]])\n",
        "\n",
        "U = np.array([[2,-1,3],\n",
        "              [0,4,-5],\n",
        "              [0,0,6]])\n",
        "\n",
        "B = np.array([4,1,2])\n",
        "\n",
        "\n",
        "#Forward Substitution process\n",
        "B_L = np.zeros(B.shape[0]) \n",
        "\n",
        "for i in range(L.shape[0]):\n",
        "  summation=0\n",
        "  for j in range(L.shape[0]):\n",
        "    if i == j:\n",
        "      B_L[j] = B[j] - summation\n",
        "      B_L[j] = B_L[j]/L[i,j]\n",
        "      break\n",
        "    else:\n",
        "      summation = summation + L[i,j]*B_L[j]\n",
        "      \n",
        "\n",
        "#Flip the U and B_L matrices if necessary using np.flip(array, axis) method\n",
        "print(U)\n",
        "U = np.flip(U, 0)\n",
        "print(U)\n",
        "U = np.flip(U, 1)\n",
        "print(U)\n",
        "print()\n",
        "print(B_L)\n",
        "B_L = np.flip(B_L,0)\n",
        "print(B_L)\n",
        "\n",
        "#Use U and B_L to populate B_LU, just like how L and B was used to populate B_L in forward substitution\n",
        "#Place your code here (You may need nested loop)\n",
        "B_LU = np.zeros(B_L.shape[0]) \n",
        "for i in range(U.shape[0]):\n",
        "  summation=0\n",
        "  for j in range(U.shape[0]):\n",
        "    if i == j:\n",
        "      B_LU[j] = B_L[j] - summation\n",
        "      B_LU[j] = B_LU[j]/U[i,j]\n",
        "      break\n",
        "    else:\n",
        "      summation = summation + U[i,j]*B_LU[j]\n",
        "\n",
        "\n",
        "################################################################\n",
        "\n",
        "\n",
        "#Answer has to be flipped if we want x1, x2, x3 sequence and not reverse\n",
        "print(np.flip(B_LU, 0))\n",
        "print()\n",
        "\n",
        "#Print however you want to:\n",
        "print(\"x1:\", B_LU[-1])\n",
        "print(\"x2:\", B_LU[1])\n",
        "print(\"x3:\", B_LU[0])\n",
        "\n",
        "print()\n",
        "\n",
        "#More preferred:\n",
        "count=1\n",
        "for i in range(len(B_LU)-1, -1, -1):\n",
        "  print(\"X\"+str(count)+\":\",B_LU[i])\n",
        "  count+=1\n",
        "\n",
        "print()\n",
        "\n",
        "#ANSWER: \n",
        "#You can also use an online tool to calculate the outputs directly then match with your code's output.\n",
        "#Link: https://onlinemschool.com/math/assistance/equation/gaus/"
      ],
      "execution_count": 4,
      "outputs": [
        {
          "output_type": "stream",
          "name": "stdout",
          "text": [
            "[[ 2 -1  3]\n",
            " [ 0  4 -5]\n",
            " [ 0  0  6]]\n",
            "[[ 0  0  6]\n",
            " [ 0  4 -5]\n",
            " [ 2 -1  3]]\n",
            "[[ 6  0  0]\n",
            " [-5  4  0]\n",
            " [ 3 -1  2]]\n",
            "\n",
            "[ 4. -7.  7.]\n",
            "[ 7. -7.  4.]\n",
            "[ 0.10416667 -0.29166667  1.16666667]\n",
            "\n",
            "x1: 0.10416666666666674\n",
            "x2: -0.2916666666666665\n",
            "x3: 1.1666666666666667\n",
            "\n",
            "X1: 0.10416666666666674\n",
            "X2: -0.2916666666666665\n",
            "X3: 1.1666666666666667\n",
            "\n"
          ]
        }
      ]
    },
    {
      "cell_type": "markdown",
      "source": [
        "# Task to do:\n",
        "Find the LU decomposition and solve the equation: \n",
        "$ \\begin{bmatrix}\n",
        "-6 & -5 & -8 \\\\\n",
        "8 & -5 & 6 \\\\\n",
        "-2 & -8 & -3 \\\\\n",
        "\\end{bmatrix} \\begin{bmatrix}\n",
        "\\boldsymbol{x}_1 \\\\\n",
        "\\boldsymbol{x}_2 \\\\\n",
        "\\boldsymbol{x}_3 \n",
        "\\end{bmatrix} = \\begin{bmatrix}\n",
        "9\\\\\n",
        "7\\\\\n",
        "-6 \\\\\n",
        "\\end{bmatrix}\n",
        " $ \n",
        "\n"
      ],
      "metadata": {
        "id": "SqStOJWL4L7m"
      }
    },
    {
      "cell_type": "code",
      "metadata": {
        "outputId": "ed9280a7-1d38-4195-f8ad-397d61d7663b",
        "colab": {
          "base_uri": "https://localhost:8080/"
        },
        "id": "Qwe5ruNYC3Y5"
      },
      "source": [
        "from sympy import Matrix\n",
        "from sympy import init_printing\n",
        "\n",
        "A = Matrix([[-6,-5,-8],\n",
        "            [8,-5,6],\n",
        "            [-2,-8,-3]])\n",
        "L, U, _ = A.LUdecomposition()\n",
        "\n",
        "init_printing(use_latex='matplotlib')\n",
        "L"
      ],
      "execution_count": 5,
      "outputs": [
        {
          "output_type": "execute_result",
          "data": {
            "text/plain": [
              "⎡ 1    0   0⎤\n",
              "⎢           ⎥\n",
              "⎢-4/3  1   0⎥\n",
              "⎢           ⎥\n",
              "⎢      19   ⎥\n",
              "⎢1/3   ──  1⎥\n",
              "⎣      35   ⎦"
            ]
          },
          "metadata": {},
          "execution_count": 5
        }
      ]
    },
    {
      "cell_type": "code",
      "source": [
        "U"
      ],
      "metadata": {
        "id": "e_MFibPRDLkk",
        "outputId": "076cd7e5-85a4-47b0-ce6a-31d6cd7293c4",
        "colab": {
          "base_uri": "https://localhost:8080/"
        }
      },
      "execution_count": 6,
      "outputs": [
        {
          "output_type": "execute_result",
          "data": {
            "text/plain": [
              "⎡-6   -5     -8  ⎤\n",
              "⎢                ⎥\n",
              "⎢0   -35/3  -14/3⎥\n",
              "⎢                ⎥\n",
              "⎣0     0    11/5 ⎦"
            ]
          },
          "metadata": {},
          "execution_count": 6
        }
      ]
    },
    {
      "cell_type": "code",
      "source": [
        "_"
      ],
      "metadata": {
        "id": "NkCgDC88DOFe",
        "outputId": "bfd30610-bd4e-4566-f3af-42453c0f2796",
        "colab": {
          "base_uri": "https://localhost:8080/"
        }
      },
      "execution_count": 7,
      "outputs": [
        {
          "output_type": "execute_result",
          "data": {
            "text/plain": [
              "⎡-6   -5     -8  ⎤\n",
              "⎢                ⎥\n",
              "⎢0   -35/3  -14/3⎥\n",
              "⎢                ⎥\n",
              "⎣0     0    11/5 ⎦"
            ]
          },
          "metadata": {},
          "execution_count": 7
        }
      ]
    },
    {
      "cell_type": "code",
      "metadata": {
        "outputId": "a2e3efb7-94ba-4a92-fbc3-f3148b302114",
        "colab": {
          "base_uri": "https://localhost:8080/"
        },
        "id": "F_M4APwHD02z"
      },
      "source": [
        "import numpy as np\n",
        "\n",
        "L = np.array([[1,0,0],\n",
        "              [-4/3,1,0],\n",
        "              [1/3,19/35,1]])\n",
        "\n",
        "U = np.array([[-6,-5,-8],\n",
        "              [0,-35/3,-14/3],\n",
        "              [0,0,11/5]])\n",
        "\n",
        "B = np.array([9,7,-6])\n",
        "\n",
        "\n",
        "#Forward Substitution process\n",
        "B_L = np.zeros(B.shape[0]) \n",
        "\n",
        "for i in range(L.shape[0]):\n",
        "  summation=0\n",
        "  for j in range(L.shape[0]):\n",
        "    if i == j:\n",
        "      B_L[j] = B[j] - summation\n",
        "      B_L[j] = B_L[j]/L[i,j]\n",
        "      break\n",
        "    else:\n",
        "      summation = summation + L[i,j]*B_L[j]\n",
        "      \n",
        "\n",
        "#Flip the U and B_L matrices\n",
        "print(U)\n",
        "U = np.flip(U, 0)\n",
        "print(U)\n",
        "U = np.flip(U, 1)\n",
        "print(U)\n",
        "print()\n",
        "print(B_L)\n",
        "B_L = np.flip(B_L,0)\n",
        "print(B_L)\n",
        "\n",
        "#Use U and B_L to populate B_LU\n",
        "\n",
        "B_LU = np.zeros(B_L.shape[0]) \n",
        "for i in range(U.shape[0]):\n",
        "  summation=0\n",
        "  for j in range(U.shape[0]):\n",
        "    if i == j:\n",
        "      B_LU[j] = B_L[j] - summation\n",
        "      B_LU[j] = B_LU[j]/U[i,j]\n",
        "      break\n",
        "    else:\n",
        "      summation = summation + U[i,j]*B_LU[j]\n",
        "\n",
        "\n",
        "\n",
        "print(np.flip(B_LU, 0))\n",
        "print()\n",
        "\n",
        "#Print:\n",
        "print(\"x1:\", B_LU[-1])\n",
        "print(\"x2:\", B_LU[1])\n",
        "print(\"x3:\", B_LU[0])\n",
        "\n",
        "print()\n",
        "\n",
        "#More preferred:\n",
        "count=1\n",
        "for i in range(len(B_LU)-1, -1, -1):\n",
        "  print(\"X\"+str(count)+\":\",B_LU[i])\n",
        "  count+=1\n",
        "\n",
        "print()\n"
      ],
      "execution_count": 8,
      "outputs": [
        {
          "output_type": "stream",
          "name": "stdout",
          "text": [
            "[[ -6.          -5.          -8.        ]\n",
            " [  0.         -11.66666667  -4.66666667]\n",
            " [  0.           0.           2.2       ]]\n",
            "[[  0.           0.           2.2       ]\n",
            " [  0.         -11.66666667  -4.66666667]\n",
            " [ -6.          -5.          -8.        ]]\n",
            "[[  2.2          0.           0.        ]\n",
            " [ -4.66666667 -11.66666667   0.        ]\n",
            " [ -8.          -5.          -6.        ]]\n",
            "\n",
            "[  9.          19.         -19.31428571]\n",
            "[-19.31428571  19.           9.        ]\n",
            "[ 8.63636364  1.88311688 -8.77922078]\n",
            "\n",
            "x1: 8.636363636363635\n",
            "x2: 1.8831168831168825\n",
            "x3: -8.779220779220777\n",
            "\n",
            "X1: 8.636363636363635\n",
            "X2: 1.8831168831168825\n",
            "X3: -8.779220779220777\n",
            "\n"
          ]
        }
      ]
    }
  ]
}